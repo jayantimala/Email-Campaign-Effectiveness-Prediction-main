{
  "nbformat": 4,
  "nbformat_minor": 0,
  "metadata": {
    "colab": {
      "name": "Email Campaign Effectiveness Prediction.ipynb",
      "provenance": [],
      "collapsed_sections": [],
      "authorship_tag": "ABX9TyPiZCf/bqUnCJQpQkedp0vg",
      "include_colab_link": true
    },
    "kernelspec": {
      "name": "python3",
      "display_name": "Python 3"
    },
    "language_info": {
      "name": "python"
    }
  },
  "cells": [
    {
      "cell_type": "markdown",
      "metadata": {
        "id": "view-in-github",
        "colab_type": "text"
      },
      "source": [
        "<a href=\"https://colab.research.google.com/github/ArslanUllahKhan1/Email-Campaign-Effectiveness-Prediction/blob/main/Email_Campaign_Effectiveness_Prediction.ipynb\" target=\"_parent\"><img src=\"https://colab.research.google.com/assets/colab-badge.svg\" alt=\"Open In Colab\"/></a>"
      ]
    },
    {
      "cell_type": "markdown",
      "source": [
        "#**Project Title : Email Campaign Effectiveness Prediction**\n",
        "###**Problem Statement**\n",
        "Most of the small to medium business owners are making effective use of Gmail-based Email marketing Strategies for offline targeting of converting their prospective customers into leads so that they stay with them in Business.\n",
        "\n",
        "###**Objective**\n",
        "The objective of this project is to provide marketers who are regularly authoring email marketing campaigns with a thorough understanding of what we’re doing, so they too can leverage the machine learning models to characterize the mail and track the mail that is ignored; read; acknowledged by the reader.\n",
        "\n"
      ],
      "metadata": {
        "id": "-xvhA4pco-uX"
      }
    },
    {
      "cell_type": "markdown",
      "source": [
        "###**Data Description**\n",
        "The data has the following features:\n",
        "\n",
        "**Email_ID** — This column contains the email ids of individuals.\n",
        "\n",
        "**Email_type** — Email type contains 2 categories 1 and 2. We can assume that the types are like promotional email or important email.\n",
        "\n",
        "**Subject_Hotness_Score** — It is the email effectiveness score.\n",
        "\n",
        "**Email_Source** — It represents the source of the email like sales or marketing or product type email.\n",
        "\n",
        "**Email_Campaign_Type** — Campaign type\n",
        "\n",
        "**Total_Past_Communications** — This column contains the previous mails from the same source.\n",
        "\n",
        "**Customer_Location** — Categorical data which explains the different demographics of the customers.\n",
        "\n",
        "**Time_Email_sent_Category** — It has 3 categories 1,2 and 3 which may give us morning,evening and night time slots.\n",
        "\n",
        "**Word_Count** — It contains the no.of words contained in the mail.\n",
        "\n",
        "**Total_Links** — Total links from the mail.\n",
        "\n",
        "**Total_Images** — The banner images from the promotional email.\n",
        "\n",
        "**Email_Status** — It is the target variable which contains the characterization of the mail that is ignored; read; acknowledged by the reader."
      ],
      "metadata": {
        "id": "B1QTUt9d8-cC"
      }
    },
    {
      "cell_type": "code",
      "execution_count": 1,
      "metadata": {
        "id": "xv3-QSmcjf1Y"
      },
      "outputs": [],
      "source": [
        "# Importing Modules\n",
        "import numpy as np\n",
        "import pandas as pd\n",
        "import matplotlib.pyplot as plt\n",
        "import seaborn as sns"
      ]
    },
    {
      "cell_type": "code",
      "source": [
        "# Mounting Drive\n",
        "from google.colab import drive\n",
        "drive.mount('/content/drive')"
      ],
      "metadata": {
        "colab": {
          "base_uri": "https://localhost:8080/"
        },
        "id": "sSU7VCwarTRU",
        "outputId": "a6e49554-b049-413d-b9ca-6d1b6056d02b"
      },
      "execution_count": 3,
      "outputs": [
        {
          "output_type": "stream",
          "name": "stdout",
          "text": [
            "Drive already mounted at /content/drive; to attempt to forcibly remount, call drive.mount(\"/content/drive\", force_remount=True).\n"
          ]
        }
      ]
    },
    {
      "cell_type": "code",
      "source": [
        "#Reading the CSV file\n",
        "email_df = pd.read_csv(\"/content/drive/MyDrive/Classification Data Sets/Copy of data_email_campaign.csv\")"
      ],
      "metadata": {
        "id": "37-jy2AfrrDZ"
      },
      "execution_count": 4,
      "outputs": []
    },
    {
      "cell_type": "code",
      "source": [
        "# Getting the shape of the data\n",
        "email_df.shape"
      ],
      "metadata": {
        "colab": {
          "base_uri": "https://localhost:8080/"
        },
        "id": "COrK7KrFsmUX",
        "outputId": "f677bd0c-7d34-48ed-f761-66b37648e0ba"
      },
      "execution_count": 5,
      "outputs": [
        {
          "output_type": "execute_result",
          "data": {
            "text/plain": [
              "(68353, 12)"
            ]
          },
          "metadata": {},
          "execution_count": 5
        }
      ]
    },
    {
      "cell_type": "code",
      "source": [
        "# Getting a glimpse of the data\n",
        "email_df.head()"
      ],
      "metadata": {
        "colab": {
          "base_uri": "https://localhost:8080/",
          "height": 270
        },
        "id": "YihKzvXotL8J",
        "outputId": "2639beb1-3db0-4925-b7ca-d8dedd6a4e51"
      },
      "execution_count": 6,
      "outputs": [
        {
          "output_type": "execute_result",
          "data": {
            "text/plain": [
              "            Email_ID  Email_Type  Subject_Hotness_Score  Email_Source_Type  \\\n",
              "0  EMA00081000034500           1                    2.2                  2   \n",
              "1  EMA00081000045360           2                    2.1                  1   \n",
              "2  EMA00081000066290           2                    0.1                  1   \n",
              "3  EMA00081000076560           1                    3.0                  2   \n",
              "4  EMA00081000109720           1                    0.0                  2   \n",
              "\n",
              "  Customer_Location  Email_Campaign_Type  Total_Past_Communications  \\\n",
              "0                 E                    2                       33.0   \n",
              "1               NaN                    2                       15.0   \n",
              "2                 B                    3                       36.0   \n",
              "3                 E                    2                       25.0   \n",
              "4                 C                    3                       18.0   \n",
              "\n",
              "   Time_Email_sent_Category  Word_Count  Total_Links  Total_Images  \\\n",
              "0                         1         440          8.0           0.0   \n",
              "1                         2         504          5.0           0.0   \n",
              "2                         2         962          5.0           0.0   \n",
              "3                         2         610         16.0           0.0   \n",
              "4                         2         947          4.0           0.0   \n",
              "\n",
              "   Email_Status  \n",
              "0             0  \n",
              "1             0  \n",
              "2             1  \n",
              "3             0  \n",
              "4             0  "
            ],
            "text/html": [
              "\n",
              "  <div id=\"df-6816a3d6-83a9-489d-9732-565b45224ba8\">\n",
              "    <div class=\"colab-df-container\">\n",
              "      <div>\n",
              "<style scoped>\n",
              "    .dataframe tbody tr th:only-of-type {\n",
              "        vertical-align: middle;\n",
              "    }\n",
              "\n",
              "    .dataframe tbody tr th {\n",
              "        vertical-align: top;\n",
              "    }\n",
              "\n",
              "    .dataframe thead th {\n",
              "        text-align: right;\n",
              "    }\n",
              "</style>\n",
              "<table border=\"1\" class=\"dataframe\">\n",
              "  <thead>\n",
              "    <tr style=\"text-align: right;\">\n",
              "      <th></th>\n",
              "      <th>Email_ID</th>\n",
              "      <th>Email_Type</th>\n",
              "      <th>Subject_Hotness_Score</th>\n",
              "      <th>Email_Source_Type</th>\n",
              "      <th>Customer_Location</th>\n",
              "      <th>Email_Campaign_Type</th>\n",
              "      <th>Total_Past_Communications</th>\n",
              "      <th>Time_Email_sent_Category</th>\n",
              "      <th>Word_Count</th>\n",
              "      <th>Total_Links</th>\n",
              "      <th>Total_Images</th>\n",
              "      <th>Email_Status</th>\n",
              "    </tr>\n",
              "  </thead>\n",
              "  <tbody>\n",
              "    <tr>\n",
              "      <th>0</th>\n",
              "      <td>EMA00081000034500</td>\n",
              "      <td>1</td>\n",
              "      <td>2.2</td>\n",
              "      <td>2</td>\n",
              "      <td>E</td>\n",
              "      <td>2</td>\n",
              "      <td>33.0</td>\n",
              "      <td>1</td>\n",
              "      <td>440</td>\n",
              "      <td>8.0</td>\n",
              "      <td>0.0</td>\n",
              "      <td>0</td>\n",
              "    </tr>\n",
              "    <tr>\n",
              "      <th>1</th>\n",
              "      <td>EMA00081000045360</td>\n",
              "      <td>2</td>\n",
              "      <td>2.1</td>\n",
              "      <td>1</td>\n",
              "      <td>NaN</td>\n",
              "      <td>2</td>\n",
              "      <td>15.0</td>\n",
              "      <td>2</td>\n",
              "      <td>504</td>\n",
              "      <td>5.0</td>\n",
              "      <td>0.0</td>\n",
              "      <td>0</td>\n",
              "    </tr>\n",
              "    <tr>\n",
              "      <th>2</th>\n",
              "      <td>EMA00081000066290</td>\n",
              "      <td>2</td>\n",
              "      <td>0.1</td>\n",
              "      <td>1</td>\n",
              "      <td>B</td>\n",
              "      <td>3</td>\n",
              "      <td>36.0</td>\n",
              "      <td>2</td>\n",
              "      <td>962</td>\n",
              "      <td>5.0</td>\n",
              "      <td>0.0</td>\n",
              "      <td>1</td>\n",
              "    </tr>\n",
              "    <tr>\n",
              "      <th>3</th>\n",
              "      <td>EMA00081000076560</td>\n",
              "      <td>1</td>\n",
              "      <td>3.0</td>\n",
              "      <td>2</td>\n",
              "      <td>E</td>\n",
              "      <td>2</td>\n",
              "      <td>25.0</td>\n",
              "      <td>2</td>\n",
              "      <td>610</td>\n",
              "      <td>16.0</td>\n",
              "      <td>0.0</td>\n",
              "      <td>0</td>\n",
              "    </tr>\n",
              "    <tr>\n",
              "      <th>4</th>\n",
              "      <td>EMA00081000109720</td>\n",
              "      <td>1</td>\n",
              "      <td>0.0</td>\n",
              "      <td>2</td>\n",
              "      <td>C</td>\n",
              "      <td>3</td>\n",
              "      <td>18.0</td>\n",
              "      <td>2</td>\n",
              "      <td>947</td>\n",
              "      <td>4.0</td>\n",
              "      <td>0.0</td>\n",
              "      <td>0</td>\n",
              "    </tr>\n",
              "  </tbody>\n",
              "</table>\n",
              "</div>\n",
              "      <button class=\"colab-df-convert\" onclick=\"convertToInteractive('df-6816a3d6-83a9-489d-9732-565b45224ba8')\"\n",
              "              title=\"Convert this dataframe to an interactive table.\"\n",
              "              style=\"display:none;\">\n",
              "        \n",
              "  <svg xmlns=\"http://www.w3.org/2000/svg\" height=\"24px\"viewBox=\"0 0 24 24\"\n",
              "       width=\"24px\">\n",
              "    <path d=\"M0 0h24v24H0V0z\" fill=\"none\"/>\n",
              "    <path d=\"M18.56 5.44l.94 2.06.94-2.06 2.06-.94-2.06-.94-.94-2.06-.94 2.06-2.06.94zm-11 1L8.5 8.5l.94-2.06 2.06-.94-2.06-.94L8.5 2.5l-.94 2.06-2.06.94zm10 10l.94 2.06.94-2.06 2.06-.94-2.06-.94-.94-2.06-.94 2.06-2.06.94z\"/><path d=\"M17.41 7.96l-1.37-1.37c-.4-.4-.92-.59-1.43-.59-.52 0-1.04.2-1.43.59L10.3 9.45l-7.72 7.72c-.78.78-.78 2.05 0 2.83L4 21.41c.39.39.9.59 1.41.59.51 0 1.02-.2 1.41-.59l7.78-7.78 2.81-2.81c.8-.78.8-2.07 0-2.86zM5.41 20L4 18.59l7.72-7.72 1.47 1.35L5.41 20z\"/>\n",
              "  </svg>\n",
              "      </button>\n",
              "      \n",
              "  <style>\n",
              "    .colab-df-container {\n",
              "      display:flex;\n",
              "      flex-wrap:wrap;\n",
              "      gap: 12px;\n",
              "    }\n",
              "\n",
              "    .colab-df-convert {\n",
              "      background-color: #E8F0FE;\n",
              "      border: none;\n",
              "      border-radius: 50%;\n",
              "      cursor: pointer;\n",
              "      display: none;\n",
              "      fill: #1967D2;\n",
              "      height: 32px;\n",
              "      padding: 0 0 0 0;\n",
              "      width: 32px;\n",
              "    }\n",
              "\n",
              "    .colab-df-convert:hover {\n",
              "      background-color: #E2EBFA;\n",
              "      box-shadow: 0px 1px 2px rgba(60, 64, 67, 0.3), 0px 1px 3px 1px rgba(60, 64, 67, 0.15);\n",
              "      fill: #174EA6;\n",
              "    }\n",
              "\n",
              "    [theme=dark] .colab-df-convert {\n",
              "      background-color: #3B4455;\n",
              "      fill: #D2E3FC;\n",
              "    }\n",
              "\n",
              "    [theme=dark] .colab-df-convert:hover {\n",
              "      background-color: #434B5C;\n",
              "      box-shadow: 0px 1px 3px 1px rgba(0, 0, 0, 0.15);\n",
              "      filter: drop-shadow(0px 1px 2px rgba(0, 0, 0, 0.3));\n",
              "      fill: #FFFFFF;\n",
              "    }\n",
              "  </style>\n",
              "\n",
              "      <script>\n",
              "        const buttonEl =\n",
              "          document.querySelector('#df-6816a3d6-83a9-489d-9732-565b45224ba8 button.colab-df-convert');\n",
              "        buttonEl.style.display =\n",
              "          google.colab.kernel.accessAllowed ? 'block' : 'none';\n",
              "\n",
              "        async function convertToInteractive(key) {\n",
              "          const element = document.querySelector('#df-6816a3d6-83a9-489d-9732-565b45224ba8');\n",
              "          const dataTable =\n",
              "            await google.colab.kernel.invokeFunction('convertToInteractive',\n",
              "                                                     [key], {});\n",
              "          if (!dataTable) return;\n",
              "\n",
              "          const docLinkHtml = 'Like what you see? Visit the ' +\n",
              "            '<a target=\"_blank\" href=https://colab.research.google.com/notebooks/data_table.ipynb>data table notebook</a>'\n",
              "            + ' to learn more about interactive tables.';\n",
              "          element.innerHTML = '';\n",
              "          dataTable['output_type'] = 'display_data';\n",
              "          await google.colab.output.renderOutput(dataTable, element);\n",
              "          const docLink = document.createElement('div');\n",
              "          docLink.innerHTML = docLinkHtml;\n",
              "          element.appendChild(docLink);\n",
              "        }\n",
              "      </script>\n",
              "    </div>\n",
              "  </div>\n",
              "  "
            ]
          },
          "metadata": {},
          "execution_count": 6
        }
      ]
    },
    {
      "cell_type": "code",
      "source": [
        "#Description of dataset \n",
        "email_df.describe(include='all')"
      ],
      "metadata": {
        "colab": {
          "base_uri": "https://localhost:8080/",
          "height": 458
        },
        "id": "M5Nnz3YLtiC3",
        "outputId": "23c2b77f-6255-49c0-e526-5f8ff6b1f9ee"
      },
      "execution_count": 7,
      "outputs": [
        {
          "output_type": "execute_result",
          "data": {
            "text/plain": [
              "                 Email_ID    Email_Type  Subject_Hotness_Score  \\\n",
              "count               68353  68353.000000           68353.000000   \n",
              "unique              68353           NaN                    NaN   \n",
              "top     EMA00081000034500           NaN                    NaN   \n",
              "freq                    1           NaN                    NaN   \n",
              "mean                  NaN      1.285094               1.095481   \n",
              "std                   NaN      0.451462               0.997578   \n",
              "min                   NaN      1.000000               0.000000   \n",
              "25%                   NaN      1.000000               0.200000   \n",
              "50%                   NaN      1.000000               0.800000   \n",
              "75%                   NaN      2.000000               1.800000   \n",
              "max                   NaN      2.000000               5.000000   \n",
              "\n",
              "        Email_Source_Type Customer_Location  Email_Campaign_Type  \\\n",
              "count        68353.000000             56758         68353.000000   \n",
              "unique                NaN                 7                  NaN   \n",
              "top                   NaN                 G                  NaN   \n",
              "freq                  NaN             23173                  NaN   \n",
              "mean             1.456513               NaN             2.272234   \n",
              "std              0.498109               NaN             0.468680   \n",
              "min              1.000000               NaN             1.000000   \n",
              "25%              1.000000               NaN             2.000000   \n",
              "50%              1.000000               NaN             2.000000   \n",
              "75%              2.000000               NaN             3.000000   \n",
              "max              2.000000               NaN             3.000000   \n",
              "\n",
              "        Total_Past_Communications  Time_Email_sent_Category    Word_Count  \\\n",
              "count                61528.000000              68353.000000  68353.000000   \n",
              "unique                        NaN                       NaN           NaN   \n",
              "top                           NaN                       NaN           NaN   \n",
              "freq                          NaN                       NaN           NaN   \n",
              "mean                    28.933250                  1.999298    699.931751   \n",
              "std                     12.536518                  0.631103    271.719440   \n",
              "min                      0.000000                  1.000000     40.000000   \n",
              "25%                     20.000000                  2.000000    521.000000   \n",
              "50%                     28.000000                  2.000000    694.000000   \n",
              "75%                     38.000000                  2.000000    880.000000   \n",
              "max                     67.000000                  3.000000   1316.000000   \n",
              "\n",
              "         Total_Links  Total_Images  Email_Status  \n",
              "count   66152.000000  66676.000000  68353.000000  \n",
              "unique           NaN           NaN           NaN  \n",
              "top              NaN           NaN           NaN  \n",
              "freq             NaN           NaN           NaN  \n",
              "mean       10.429526      3.550678      0.230934  \n",
              "std         6.383270      5.596983      0.497032  \n",
              "min         1.000000      0.000000      0.000000  \n",
              "25%         6.000000      0.000000      0.000000  \n",
              "50%         9.000000      0.000000      0.000000  \n",
              "75%        14.000000      5.000000      0.000000  \n",
              "max        49.000000     45.000000      2.000000  "
            ],
            "text/html": [
              "\n",
              "  <div id=\"df-6340929e-4a76-4bda-a247-be3c6f6a0a74\">\n",
              "    <div class=\"colab-df-container\">\n",
              "      <div>\n",
              "<style scoped>\n",
              "    .dataframe tbody tr th:only-of-type {\n",
              "        vertical-align: middle;\n",
              "    }\n",
              "\n",
              "    .dataframe tbody tr th {\n",
              "        vertical-align: top;\n",
              "    }\n",
              "\n",
              "    .dataframe thead th {\n",
              "        text-align: right;\n",
              "    }\n",
              "</style>\n",
              "<table border=\"1\" class=\"dataframe\">\n",
              "  <thead>\n",
              "    <tr style=\"text-align: right;\">\n",
              "      <th></th>\n",
              "      <th>Email_ID</th>\n",
              "      <th>Email_Type</th>\n",
              "      <th>Subject_Hotness_Score</th>\n",
              "      <th>Email_Source_Type</th>\n",
              "      <th>Customer_Location</th>\n",
              "      <th>Email_Campaign_Type</th>\n",
              "      <th>Total_Past_Communications</th>\n",
              "      <th>Time_Email_sent_Category</th>\n",
              "      <th>Word_Count</th>\n",
              "      <th>Total_Links</th>\n",
              "      <th>Total_Images</th>\n",
              "      <th>Email_Status</th>\n",
              "    </tr>\n",
              "  </thead>\n",
              "  <tbody>\n",
              "    <tr>\n",
              "      <th>count</th>\n",
              "      <td>68353</td>\n",
              "      <td>68353.000000</td>\n",
              "      <td>68353.000000</td>\n",
              "      <td>68353.000000</td>\n",
              "      <td>56758</td>\n",
              "      <td>68353.000000</td>\n",
              "      <td>61528.000000</td>\n",
              "      <td>68353.000000</td>\n",
              "      <td>68353.000000</td>\n",
              "      <td>66152.000000</td>\n",
              "      <td>66676.000000</td>\n",
              "      <td>68353.000000</td>\n",
              "    </tr>\n",
              "    <tr>\n",
              "      <th>unique</th>\n",
              "      <td>68353</td>\n",
              "      <td>NaN</td>\n",
              "      <td>NaN</td>\n",
              "      <td>NaN</td>\n",
              "      <td>7</td>\n",
              "      <td>NaN</td>\n",
              "      <td>NaN</td>\n",
              "      <td>NaN</td>\n",
              "      <td>NaN</td>\n",
              "      <td>NaN</td>\n",
              "      <td>NaN</td>\n",
              "      <td>NaN</td>\n",
              "    </tr>\n",
              "    <tr>\n",
              "      <th>top</th>\n",
              "      <td>EMA00081000034500</td>\n",
              "      <td>NaN</td>\n",
              "      <td>NaN</td>\n",
              "      <td>NaN</td>\n",
              "      <td>G</td>\n",
              "      <td>NaN</td>\n",
              "      <td>NaN</td>\n",
              "      <td>NaN</td>\n",
              "      <td>NaN</td>\n",
              "      <td>NaN</td>\n",
              "      <td>NaN</td>\n",
              "      <td>NaN</td>\n",
              "    </tr>\n",
              "    <tr>\n",
              "      <th>freq</th>\n",
              "      <td>1</td>\n",
              "      <td>NaN</td>\n",
              "      <td>NaN</td>\n",
              "      <td>NaN</td>\n",
              "      <td>23173</td>\n",
              "      <td>NaN</td>\n",
              "      <td>NaN</td>\n",
              "      <td>NaN</td>\n",
              "      <td>NaN</td>\n",
              "      <td>NaN</td>\n",
              "      <td>NaN</td>\n",
              "      <td>NaN</td>\n",
              "    </tr>\n",
              "    <tr>\n",
              "      <th>mean</th>\n",
              "      <td>NaN</td>\n",
              "      <td>1.285094</td>\n",
              "      <td>1.095481</td>\n",
              "      <td>1.456513</td>\n",
              "      <td>NaN</td>\n",
              "      <td>2.272234</td>\n",
              "      <td>28.933250</td>\n",
              "      <td>1.999298</td>\n",
              "      <td>699.931751</td>\n",
              "      <td>10.429526</td>\n",
              "      <td>3.550678</td>\n",
              "      <td>0.230934</td>\n",
              "    </tr>\n",
              "    <tr>\n",
              "      <th>std</th>\n",
              "      <td>NaN</td>\n",
              "      <td>0.451462</td>\n",
              "      <td>0.997578</td>\n",
              "      <td>0.498109</td>\n",
              "      <td>NaN</td>\n",
              "      <td>0.468680</td>\n",
              "      <td>12.536518</td>\n",
              "      <td>0.631103</td>\n",
              "      <td>271.719440</td>\n",
              "      <td>6.383270</td>\n",
              "      <td>5.596983</td>\n",
              "      <td>0.497032</td>\n",
              "    </tr>\n",
              "    <tr>\n",
              "      <th>min</th>\n",
              "      <td>NaN</td>\n",
              "      <td>1.000000</td>\n",
              "      <td>0.000000</td>\n",
              "      <td>1.000000</td>\n",
              "      <td>NaN</td>\n",
              "      <td>1.000000</td>\n",
              "      <td>0.000000</td>\n",
              "      <td>1.000000</td>\n",
              "      <td>40.000000</td>\n",
              "      <td>1.000000</td>\n",
              "      <td>0.000000</td>\n",
              "      <td>0.000000</td>\n",
              "    </tr>\n",
              "    <tr>\n",
              "      <th>25%</th>\n",
              "      <td>NaN</td>\n",
              "      <td>1.000000</td>\n",
              "      <td>0.200000</td>\n",
              "      <td>1.000000</td>\n",
              "      <td>NaN</td>\n",
              "      <td>2.000000</td>\n",
              "      <td>20.000000</td>\n",
              "      <td>2.000000</td>\n",
              "      <td>521.000000</td>\n",
              "      <td>6.000000</td>\n",
              "      <td>0.000000</td>\n",
              "      <td>0.000000</td>\n",
              "    </tr>\n",
              "    <tr>\n",
              "      <th>50%</th>\n",
              "      <td>NaN</td>\n",
              "      <td>1.000000</td>\n",
              "      <td>0.800000</td>\n",
              "      <td>1.000000</td>\n",
              "      <td>NaN</td>\n",
              "      <td>2.000000</td>\n",
              "      <td>28.000000</td>\n",
              "      <td>2.000000</td>\n",
              "      <td>694.000000</td>\n",
              "      <td>9.000000</td>\n",
              "      <td>0.000000</td>\n",
              "      <td>0.000000</td>\n",
              "    </tr>\n",
              "    <tr>\n",
              "      <th>75%</th>\n",
              "      <td>NaN</td>\n",
              "      <td>2.000000</td>\n",
              "      <td>1.800000</td>\n",
              "      <td>2.000000</td>\n",
              "      <td>NaN</td>\n",
              "      <td>3.000000</td>\n",
              "      <td>38.000000</td>\n",
              "      <td>2.000000</td>\n",
              "      <td>880.000000</td>\n",
              "      <td>14.000000</td>\n",
              "      <td>5.000000</td>\n",
              "      <td>0.000000</td>\n",
              "    </tr>\n",
              "    <tr>\n",
              "      <th>max</th>\n",
              "      <td>NaN</td>\n",
              "      <td>2.000000</td>\n",
              "      <td>5.000000</td>\n",
              "      <td>2.000000</td>\n",
              "      <td>NaN</td>\n",
              "      <td>3.000000</td>\n",
              "      <td>67.000000</td>\n",
              "      <td>3.000000</td>\n",
              "      <td>1316.000000</td>\n",
              "      <td>49.000000</td>\n",
              "      <td>45.000000</td>\n",
              "      <td>2.000000</td>\n",
              "    </tr>\n",
              "  </tbody>\n",
              "</table>\n",
              "</div>\n",
              "      <button class=\"colab-df-convert\" onclick=\"convertToInteractive('df-6340929e-4a76-4bda-a247-be3c6f6a0a74')\"\n",
              "              title=\"Convert this dataframe to an interactive table.\"\n",
              "              style=\"display:none;\">\n",
              "        \n",
              "  <svg xmlns=\"http://www.w3.org/2000/svg\" height=\"24px\"viewBox=\"0 0 24 24\"\n",
              "       width=\"24px\">\n",
              "    <path d=\"M0 0h24v24H0V0z\" fill=\"none\"/>\n",
              "    <path d=\"M18.56 5.44l.94 2.06.94-2.06 2.06-.94-2.06-.94-.94-2.06-.94 2.06-2.06.94zm-11 1L8.5 8.5l.94-2.06 2.06-.94-2.06-.94L8.5 2.5l-.94 2.06-2.06.94zm10 10l.94 2.06.94-2.06 2.06-.94-2.06-.94-.94-2.06-.94 2.06-2.06.94z\"/><path d=\"M17.41 7.96l-1.37-1.37c-.4-.4-.92-.59-1.43-.59-.52 0-1.04.2-1.43.59L10.3 9.45l-7.72 7.72c-.78.78-.78 2.05 0 2.83L4 21.41c.39.39.9.59 1.41.59.51 0 1.02-.2 1.41-.59l7.78-7.78 2.81-2.81c.8-.78.8-2.07 0-2.86zM5.41 20L4 18.59l7.72-7.72 1.47 1.35L5.41 20z\"/>\n",
              "  </svg>\n",
              "      </button>\n",
              "      \n",
              "  <style>\n",
              "    .colab-df-container {\n",
              "      display:flex;\n",
              "      flex-wrap:wrap;\n",
              "      gap: 12px;\n",
              "    }\n",
              "\n",
              "    .colab-df-convert {\n",
              "      background-color: #E8F0FE;\n",
              "      border: none;\n",
              "      border-radius: 50%;\n",
              "      cursor: pointer;\n",
              "      display: none;\n",
              "      fill: #1967D2;\n",
              "      height: 32px;\n",
              "      padding: 0 0 0 0;\n",
              "      width: 32px;\n",
              "    }\n",
              "\n",
              "    .colab-df-convert:hover {\n",
              "      background-color: #E2EBFA;\n",
              "      box-shadow: 0px 1px 2px rgba(60, 64, 67, 0.3), 0px 1px 3px 1px rgba(60, 64, 67, 0.15);\n",
              "      fill: #174EA6;\n",
              "    }\n",
              "\n",
              "    [theme=dark] .colab-df-convert {\n",
              "      background-color: #3B4455;\n",
              "      fill: #D2E3FC;\n",
              "    }\n",
              "\n",
              "    [theme=dark] .colab-df-convert:hover {\n",
              "      background-color: #434B5C;\n",
              "      box-shadow: 0px 1px 3px 1px rgba(0, 0, 0, 0.15);\n",
              "      filter: drop-shadow(0px 1px 2px rgba(0, 0, 0, 0.3));\n",
              "      fill: #FFFFFF;\n",
              "    }\n",
              "  </style>\n",
              "\n",
              "      <script>\n",
              "        const buttonEl =\n",
              "          document.querySelector('#df-6340929e-4a76-4bda-a247-be3c6f6a0a74 button.colab-df-convert');\n",
              "        buttonEl.style.display =\n",
              "          google.colab.kernel.accessAllowed ? 'block' : 'none';\n",
              "\n",
              "        async function convertToInteractive(key) {\n",
              "          const element = document.querySelector('#df-6340929e-4a76-4bda-a247-be3c6f6a0a74');\n",
              "          const dataTable =\n",
              "            await google.colab.kernel.invokeFunction('convertToInteractive',\n",
              "                                                     [key], {});\n",
              "          if (!dataTable) return;\n",
              "\n",
              "          const docLinkHtml = 'Like what you see? Visit the ' +\n",
              "            '<a target=\"_blank\" href=https://colab.research.google.com/notebooks/data_table.ipynb>data table notebook</a>'\n",
              "            + ' to learn more about interactive tables.';\n",
              "          element.innerHTML = '';\n",
              "          dataTable['output_type'] = 'display_data';\n",
              "          await google.colab.output.renderOutput(dataTable, element);\n",
              "          const docLink = document.createElement('div');\n",
              "          docLink.innerHTML = docLinkHtml;\n",
              "          element.appendChild(docLink);\n",
              "        }\n",
              "      </script>\n",
              "    </div>\n",
              "  </div>\n",
              "  "
            ]
          },
          "metadata": {},
          "execution_count": 7
        }
      ]
    },
    {
      "cell_type": "markdown",
      "source": [
        "##**Exploratory Data Analysis**"
      ],
      "metadata": {
        "id": "-tVJbBkjvnaS"
      }
    },
    {
      "cell_type": "code",
      "source": [
        "#Getting info\n",
        "email_df.info()"
      ],
      "metadata": {
        "colab": {
          "base_uri": "https://localhost:8080/"
        },
        "id": "MVXjvnpftRMp",
        "outputId": "a400a9ec-aeca-4dd5-fc7d-c00b170e6a7c"
      },
      "execution_count": 8,
      "outputs": [
        {
          "output_type": "stream",
          "name": "stdout",
          "text": [
            "<class 'pandas.core.frame.DataFrame'>\n",
            "RangeIndex: 68353 entries, 0 to 68352\n",
            "Data columns (total 12 columns):\n",
            " #   Column                     Non-Null Count  Dtype  \n",
            "---  ------                     --------------  -----  \n",
            " 0   Email_ID                   68353 non-null  object \n",
            " 1   Email_Type                 68353 non-null  int64  \n",
            " 2   Subject_Hotness_Score      68353 non-null  float64\n",
            " 3   Email_Source_Type          68353 non-null  int64  \n",
            " 4   Customer_Location          56758 non-null  object \n",
            " 5   Email_Campaign_Type        68353 non-null  int64  \n",
            " 6   Total_Past_Communications  61528 non-null  float64\n",
            " 7   Time_Email_sent_Category   68353 non-null  int64  \n",
            " 8   Word_Count                 68353 non-null  int64  \n",
            " 9   Total_Links                66152 non-null  float64\n",
            " 10  Total_Images               66676 non-null  float64\n",
            " 11  Email_Status               68353 non-null  int64  \n",
            "dtypes: float64(4), int64(6), object(2)\n",
            "memory usage: 6.3+ MB\n"
          ]
        }
      ]
    },
    {
      "cell_type": "code",
      "source": [
        "#Checking Null values\n",
        "email_df.isnull().sum()"
      ],
      "metadata": {
        "colab": {
          "base_uri": "https://localhost:8080/"
        },
        "id": "FyNFCqnztgOu",
        "outputId": "34e411bb-2101-4a5b-ec09-e8639e41c2d7"
      },
      "execution_count": 9,
      "outputs": [
        {
          "output_type": "execute_result",
          "data": {
            "text/plain": [
              "Email_ID                         0\n",
              "Email_Type                       0\n",
              "Subject_Hotness_Score            0\n",
              "Email_Source_Type                0\n",
              "Customer_Location            11595\n",
              "Email_Campaign_Type              0\n",
              "Total_Past_Communications     6825\n",
              "Time_Email_sent_Category         0\n",
              "Word_Count                       0\n",
              "Total_Links                   2201\n",
              "Total_Images                  1677\n",
              "Email_Status                     0\n",
              "dtype: int64"
            ]
          },
          "metadata": {},
          "execution_count": 9
        }
      ]
    },
    {
      "cell_type": "markdown",
      "source": [
        "\n",
        "We have 4 features that contains have null values.\n",
        "\n",
        "Customer_Location is having 11595 null values\n",
        "\n",
        "Total_Past_Communications is having 6825 null values\n",
        "\n",
        "Total_Links is having 2201 null values\n",
        "\n",
        "Total_Images is having 1677 null values\n"
      ],
      "metadata": {
        "id": "FF1TsN9uuo_E"
      }
    },
    {
      "cell_type": "markdown",
      "source": [
        "##Null Values Treatment"
      ],
      "metadata": {
        "id": "u4SCD_jSS0SL"
      }
    },
    {
      "cell_type": "markdown",
      "source": [
        "### Treating the Customer Location "
      ],
      "metadata": {
        "id": "pQzw-r8rQEwc"
      }
    },
    {
      "cell_type": "code",
      "source": [
        "#Visualizing Customer_Location\n",
        "sns.countplot(email_df['Customer_Location'])"
      ],
      "metadata": {
        "colab": {
          "base_uri": "https://localhost:8080/",
          "height": 355
        },
        "id": "pP1NdnJPQjSf",
        "outputId": "4d42d922-678a-4c8e-bde8-f313f81ad233"
      },
      "execution_count": 10,
      "outputs": [
        {
          "output_type": "stream",
          "name": "stderr",
          "text": [
            "/usr/local/lib/python3.7/dist-packages/seaborn/_decorators.py:43: FutureWarning: Pass the following variable as a keyword arg: x. From version 0.12, the only valid positional argument will be `data`, and passing other arguments without an explicit keyword will result in an error or misinterpretation.\n",
            "  FutureWarning\n"
          ]
        },
        {
          "output_type": "execute_result",
          "data": {
            "text/plain": [
              "<matplotlib.axes._subplots.AxesSubplot at 0x7f8c7989c8d0>"
            ]
          },
          "metadata": {},
          "execution_count": 10
        },
        {
          "output_type": "display_data",
          "data": {
            "text/plain": [
              "<Figure size 432x288 with 1 Axes>"
            ],
            "image/png": "[encoded data removed]"
          },
          "metadata": {
            "needs_background": "light"
          }
        }
      ]
    },
    {
      "cell_type": "code",
      "source": [
        "plt.figure(figsize=(13,6))\n",
        "ax=sns.countplot(email_df['Customer_Location'],hue=email_df['Email_Status'])\n",
        "plt.xticks(size=12)\n",
        "plt.yticks(size=12)"
      ],
      "metadata": {
        "colab": {
          "base_uri": "https://localhost:8080/",
          "height": 486
        },
        "id": "4dIBxBWAQpKs",
        "outputId": "ac3bd87c-d1cf-4fce-cd99-f3cd56aae0f1"
      },
      "execution_count": 11,
      "outputs": [
        {
          "output_type": "stream",
          "name": "stderr",
          "text": [
            "/usr/local/lib/python3.7/dist-packages/seaborn/_decorators.py:43: FutureWarning: Pass the following variable as a keyword arg: x. From version 0.12, the only valid positional argument will be `data`, and passing other arguments without an explicit keyword will result in an error or misinterpretation.\n",
            "  FutureWarning\n"
          ]
        },
        {
          "output_type": "execute_result",
          "data": {
            "text/plain": [
              "(array([    0.,  2500.,  5000.,  7500., 10000., 12500., 15000., 17500.,\n",
              "        20000.]), <a list of 9 Text major ticklabel objects>)"
            ]
          },
          "metadata": {},
          "execution_count": 11
        },
        {
          "output_type": "display_data",
          "data": {
            "text/plain": [
              "<Figure size 936x432 with 1 Axes>"
            ],
            "image/png": "[encoded data removed]"
          },
          "metadata": {
            "needs_background": "light"
          }
        }
      ]
    },
    {
      "cell_type": "markdown",
      "source": [
        "As we can see irrespective of location the ratio of Email_Status is same throughout .So we can drop the location column"
      ],
      "metadata": {
        "id": "KZY-6DcWSOGx"
      }
    },
    {
      "cell_type": "code",
      "source": [
        "email_df.drop('Customer_Location',inplace=True,axis=1)\n",
        "print('Shape of data after dropping ',email_df.shape)"
      ],
      "metadata": {
        "colab": {
          "base_uri": "https://localhost:8080/"
        },
        "id": "nxHBeGi2Sa3M",
        "outputId": "b8534db7-b727-4465-a727-120f2b29c9cd"
      },
      "execution_count": 12,
      "outputs": [
        {
          "output_type": "stream",
          "name": "stdout",
          "text": [
            "Shape of data after dropping  (68353, 11)\n"
          ]
        }
      ]
    },
    {
      "cell_type": "markdown",
      "source": [
        "###Now Total_Past_Communications"
      ],
      "metadata": {
        "id": "1VdONlTzStht"
      }
    },
    {
      "cell_type": "code",
      "source": [
        "#let's see the distribution of Total Past Communications\n",
        "sns.distplot(x=email_df['Total_Past_Communications'], hist = True)"
      ],
      "metadata": {
        "colab": {
          "base_uri": "https://localhost:8080/",
          "height": 340
        },
        "id": "vE4OPGb_S6wr",
        "outputId": "84e52614-1b49-4326-851c-4b5c034cb290"
      },
      "execution_count": 13,
      "outputs": [
        {
          "output_type": "stream",
          "name": "stderr",
          "text": [
            "/usr/local/lib/python3.7/dist-packages/seaborn/distributions.py:2619: FutureWarning: `distplot` is a deprecated function and will be removed in a future version. Please adapt your code to use either `displot` (a figure-level function with similar flexibility) or `histplot` (an axes-level function for histograms).\n",
            "  warnings.warn(msg, FutureWarning)\n"
          ]
        },
        {
          "output_type": "execute_result",
          "data": {
            "text/plain": [
              "<matplotlib.axes._subplots.AxesSubplot at 0x7f8c78ca9550>"
            ]
          },
          "metadata": {},
          "execution_count": 13
        },
        {
          "output_type": "display_data",
          "data": {
            "text/plain": [
              "<Figure size 432x288 with 1 Axes>"
            ],
            "image/png": "[encoded data removed]"
          },
          "metadata": {
            "needs_background": "light"
          }
        }
      ]
    },
    {
      "cell_type": "markdown",
      "source": [
        "####Since we have kind of normal distribution, we will use mean to fill up the null values in this column"
      ],
      "metadata": {
        "id": "vn6h5bCMTFE7"
      }
    },
    {
      "cell_type": "code",
      "source": [
        "#filling up the null values for Total_Past_Communications\n",
        "email_df['Total_Past_Communications'].fillna(email_df['Total_Past_Communications'].mean(), inplace = True)"
      ],
      "metadata": {
        "id": "gqAwzzaKTVJV"
      },
      "execution_count": 14,
      "outputs": []
    },
    {
      "cell_type": "markdown",
      "source": [
        "### Filling missing values of Total_Links column"
      ],
      "metadata": {
        "id": "fSqEyhsuThg9"
      }
    },
    {
      "cell_type": "code",
      "source": [
        "#let's see the distribution of Total Links\n",
        "sns.distplot(x=email_df['Total_Links'], hist= True)"
      ],
      "metadata": {
        "colab": {
          "base_uri": "https://localhost:8080/",
          "height": 340
        },
        "id": "8LekxKkwTnsF",
        "outputId": "071e1964-4421-48d8-a83e-8cdeca50b445"
      },
      "execution_count": 15,
      "outputs": [
        {
          "output_type": "stream",
          "name": "stderr",
          "text": [
            "/usr/local/lib/python3.7/dist-packages/seaborn/distributions.py:2619: FutureWarning: `distplot` is a deprecated function and will be removed in a future version. Please adapt your code to use either `displot` (a figure-level function with similar flexibility) or `histplot` (an axes-level function for histograms).\n",
            "  warnings.warn(msg, FutureWarning)\n"
          ]
        },
        {
          "output_type": "execute_result",
          "data": {
            "text/plain": [
              "<matplotlib.axes._subplots.AxesSubplot at 0x7f8c78d7e4d0>"
            ]
          },
          "metadata": {},
          "execution_count": 15
        },
        {
          "output_type": "display_data",
          "data": {
            "text/plain": [
              "<Figure size 432x288 with 1 Axes>"
            ],
            "image/png": "[encoded data removed]"
          },
          "metadata": {
            "needs_background": "light"
          }
        }
      ]
    },
    {
      "cell_type": "markdown",
      "source": [
        "Total Links column distribution is skewed on the right. So we use mode to fill these null values."
      ],
      "metadata": {
        "id": "D7VHs-gMUBre"
      }
    },
    {
      "cell_type": "code",
      "source": [
        "#filling up the Total Links Column\n",
        "email_df['Total_Links'].fillna(email_df['Total_Links'].mode()[0], inplace = True)"
      ],
      "metadata": {
        "id": "SpmWLtWXUQvd"
      },
      "execution_count": 16,
      "outputs": []
    },
    {
      "cell_type": "markdown",
      "source": [
        "### Lastly Total_Images Column"
      ],
      "metadata": {
        "id": "9w8DWEelUUh-"
      }
    },
    {
      "cell_type": "code",
      "source": [
        "#let's see the distribution of Total Images\n",
        "sns.distplot(x=email_df['Total_Images'], hist= True)"
      ],
      "metadata": {
        "colab": {
          "base_uri": "https://localhost:8080/",
          "height": 340
        },
        "id": "7HFU0nS9UZiQ",
        "outputId": "ed44154e-ae22-4b8d-d444-ffea0e4b692b"
      },
      "execution_count": 17,
      "outputs": [
        {
          "output_type": "stream",
          "name": "stderr",
          "text": [
            "/usr/local/lib/python3.7/dist-packages/seaborn/distributions.py:2619: FutureWarning: `distplot` is a deprecated function and will be removed in a future version. Please adapt your code to use either `displot` (a figure-level function with similar flexibility) or `histplot` (an axes-level function for histograms).\n",
            "  warnings.warn(msg, FutureWarning)\n"
          ]
        },
        {
          "output_type": "execute_result",
          "data": {
            "text/plain": [
              "<matplotlib.axes._subplots.AxesSubplot at 0x7f8c7637b6d0>"
            ]
          },
          "metadata": {},
          "execution_count": 17
        },
        {
          "output_type": "display_data",
          "data": {
            "text/plain": [
              "<Figure size 432x288 with 1 Axes>"
            ],
            "image/png": "[encoded data removed]"
          },
          "metadata": {
            "needs_background": "light"
          }
        }
      ]
    },
    {
      "cell_type": "markdown",
      "source": [
        "The number of images in most of the emails seems to be 0 or fewer than 3-4. It would be wise to fill the null values with mode values."
      ],
      "metadata": {
        "id": "VzGzPa_KWYz_"
      }
    },
    {
      "cell_type": "code",
      "source": [
        "#filling up the Total Images Column\n",
        "email_df['Total_Images'].fillna(email_df['Total_Images'].mode()[0], inplace = True)"
      ],
      "metadata": {
        "id": "UImLVZVnWcRJ"
      },
      "execution_count": 18,
      "outputs": []
    },
    {
      "cell_type": "code",
      "source": [
        "#check for duplicates\n",
        "email_df.duplicated().sum()"
      ],
      "metadata": {
        "colab": {
          "base_uri": "https://localhost:8080/"
        },
        "id": "OdPCAposWewX",
        "outputId": "c49b7641-7cac-4ae9-80a0-53d066e4b14c"
      },
      "execution_count": 19,
      "outputs": [
        {
          "output_type": "execute_result",
          "data": {
            "text/plain": [
              "0"
            ]
          },
          "metadata": {},
          "execution_count": 19
        }
      ]
    },
    {
      "cell_type": "markdown",
      "source": [
        "##Visualizations :"
      ],
      "metadata": {
        "id": "4f0_KiSXWqr1"
      }
    },
    {
      "cell_type": "code",
      "source": [
        "# Plotting bar plot for Email_Type\n",
        "plt.figure(figsize=(6,5))\n",
        "sns.countplot(email_df['Email_Type'])\n",
        "plt.title('Email Types bar plot', fontsize=13)"
      ],
      "metadata": {
        "colab": {
          "base_uri": "https://localhost:8080/",
          "height": 426
        },
        "id": "J7lzB8d4W2R6",
        "outputId": "a7b58d3d-c2c7-413e-8bfd-5b0767f6bfd2"
      },
      "execution_count": 20,
      "outputs": [
        {
          "output_type": "stream",
          "name": "stderr",
          "text": [
            "/usr/local/lib/python3.7/dist-packages/seaborn/_decorators.py:43: FutureWarning: Pass the following variable as a keyword arg: x. From version 0.12, the only valid positional argument will be `data`, and passing other arguments without an explicit keyword will result in an error or misinterpretation.\n",
            "  FutureWarning\n"
          ]
        },
        {
          "output_type": "execute_result",
          "data": {
            "text/plain": [
              "Text(0.5, 1.0, 'Email Types bar plot')"
            ]
          },
          "metadata": {},
          "execution_count": 20
        },
        {
          "output_type": "display_data",
          "data": {
            "text/plain": [
              "<Figure size 432x360 with 1 Axes>"
            ],
            "image/png": "[encoded data removed]"
          },
          "metadata": {
            "needs_background": "light"
          }
        }
      ]
    },
    {
      "cell_type": "markdown",
      "source": [
        "**Inference** : Most of the emails were of type 1.\n"
      ],
      "metadata": {
        "id": "_U_ZzHdgXKj2"
      }
    },
    {
      "cell_type": "code",
      "source": [
        "# Plotting histogram for Subject_Hotness_Score\n",
        "plt.figure(figsize=(12,6))\n",
        "plt.subplot(1,2,1)\n",
        "sns.distplot(email_df['Subject_Hotness_Score'])\n",
        "plt.title('Distribution of Subject Hotness Score', fontsize=13)\n"
      ],
      "metadata": {
        "colab": {
          "base_uri": "https://localhost:8080/",
          "height": 480
        },
        "id": "mqbly7NbXSI5",
        "outputId": "6e26d55f-0355-41f0-cb9f-ae7bba3ec89f"
      },
      "execution_count": 21,
      "outputs": [
        {
          "output_type": "stream",
          "name": "stderr",
          "text": [
            "/usr/local/lib/python3.7/dist-packages/seaborn/distributions.py:2619: FutureWarning: `distplot` is a deprecated function and will be removed in a future version. Please adapt your code to use either `displot` (a figure-level function with similar flexibility) or `histplot` (an axes-level function for histograms).\n",
            "  warnings.warn(msg, FutureWarning)\n"
          ]
        },
        {
          "output_type": "execute_result",
          "data": {
            "text/plain": [
              "Text(0.5, 1.0, 'Distribution of Subject Hotness Score')"
            ]
          },
          "metadata": {},
          "execution_count": 21
        },
        {
          "output_type": "display_data",
          "data": {
            "text/plain": [
              "<Figure size 864x432 with 1 Axes>"
            ],
            "image/png": "[encoded data removed]"
          },
          "metadata": {
            "needs_background": "light"
          }
        }
      ]
    },
    {
      "cell_type": "markdown",
      "source": [
        "Inference : Emails with lower subject hotness score are higher in numbers.\n"
      ],
      "metadata": {
        "id": "oYDqojUFYDIs"
      }
    },
    {
      "cell_type": "code",
      "source": [
        "# Plotting bar plot for Email_Campaign_Type\n",
        "plt.figure(figsize=(8,5))\n",
        "sns.countplot(email_df['Email_Campaign_Type'])"
      ],
      "metadata": {
        "colab": {
          "base_uri": "https://localhost:8080/",
          "height": 410
        },
        "id": "zSpjTXNdYdEM",
        "outputId": "a4f4af65-2ac1-409c-d0ce-1e8de0d5254a"
      },
      "execution_count": 22,
      "outputs": [
        {
          "output_type": "stream",
          "name": "stderr",
          "text": [
            "/usr/local/lib/python3.7/dist-packages/seaborn/_decorators.py:43: FutureWarning: Pass the following variable as a keyword arg: x. From version 0.12, the only valid positional argument will be `data`, and passing other arguments without an explicit keyword will result in an error or misinterpretation.\n",
            "  FutureWarning\n"
          ]
        },
        {
          "output_type": "execute_result",
          "data": {
            "text/plain": [
              "<matplotlib.axes._subplots.AxesSubplot at 0x7f8c760ce1d0>"
            ]
          },
          "metadata": {},
          "execution_count": 22
        },
        {
          "output_type": "display_data",
          "data": {
            "text/plain": [
              "<Figure size 576x360 with 1 Axes>"
            ],
            "image/png": "[encoded data removed]"
          },
          "metadata": {
            "needs_background": "light"
          }
        }
      ]
    },
    {
      "cell_type": "markdown",
      "source": [
        "Inference :2nd type campaign have higher number of mails as compared to other types."
      ],
      "metadata": {
        "id": "Gr5tHsfqY-y9"
      }
    },
    {
      "cell_type": "code",
      "source": [
        "# Plotting bar plot for Email_Source_Type\n",
        "plt.figure(figsize=(8,5))\n",
        "sns.countplot(email_df['Email_Source_Type'])\n",
        "plt.title('Email Source Types bar plot', fontsize=13)"
      ],
      "metadata": {
        "colab": {
          "base_uri": "https://localhost:8080/",
          "height": 426
        },
        "id": "H17vAhgEY9Pm",
        "outputId": "bca879d0-48b3-41a6-a2ab-cc44ed0d5f6b"
      },
      "execution_count": 23,
      "outputs": [
        {
          "output_type": "stream",
          "name": "stderr",
          "text": [
            "/usr/local/lib/python3.7/dist-packages/seaborn/_decorators.py:43: FutureWarning: Pass the following variable as a keyword arg: x. From version 0.12, the only valid positional argument will be `data`, and passing other arguments without an explicit keyword will result in an error or misinterpretation.\n",
            "  FutureWarning\n"
          ]
        },
        {
          "output_type": "execute_result",
          "data": {
            "text/plain": [
              "Text(0.5, 1.0, 'Email Source Types bar plot')"
            ]
          },
          "metadata": {},
          "execution_count": 23
        },
        {
          "output_type": "display_data",
          "data": {
            "text/plain": [
              "<Figure size 576x360 with 1 Axes>"
            ],
            "image/png": "[encoded data removed]"
          },
          "metadata": {
            "needs_background": "light"
          }
        }
      ]
    },
    {
      "cell_type": "markdown",
      "source": [
        "Inference : Emails were sent from both the sources with almost equal probability."
      ],
      "metadata": {
        "id": "k05KLxDwaLfK"
      }
    },
    {
      "cell_type": "code",
      "source": [
        "# Plotting histogram for Total_Past_Communications\n",
        "plt.figure(figsize=(15,7))\n",
        "plt.subplot(1,2,1)\n",
        "sns.distplot(email_df['Total_Past_Communications'])\n",
        "plt.title('Distribution of Total Past Communications happened', fontsize=10)\n"
      ],
      "metadata": {
        "colab": {
          "base_uri": "https://localhost:8080/",
          "height": 532
        },
        "id": "fzCRNzzGaJ-4",
        "outputId": "1435c0a5-8bb3-40f5-c101-097d06b24437"
      },
      "execution_count": 24,
      "outputs": [
        {
          "output_type": "stream",
          "name": "stderr",
          "text": [
            "/usr/local/lib/python3.7/dist-packages/seaborn/distributions.py:2619: FutureWarning: `distplot` is a deprecated function and will be removed in a future version. Please adapt your code to use either `displot` (a figure-level function with similar flexibility) or `histplot` (an axes-level function for histograms).\n",
            "  warnings.warn(msg, FutureWarning)\n"
          ]
        },
        {
          "output_type": "execute_result",
          "data": {
            "text/plain": [
              "Text(0.5, 1.0, 'Distribution of Total Past Communications happened')"
            ]
          },
          "metadata": {},
          "execution_count": 24
        },
        {
          "output_type": "display_data",
          "data": {
            "text/plain": [
              "<Figure size 1080x504 with 1 Axes>"
            ],
            "image/png": "[encoded data removed]"
          },
          "metadata": {
            "needs_background": "light"
          }
        }
      ]
    },
    {
      "cell_type": "markdown",
      "source": [
        "Inference- Number of Total Past Communications is somehow normally distributed and average number of communications are around 30."
      ],
      "metadata": {
        "id": "NByU9ByNacZe"
      }
    },
    {
      "cell_type": "code",
      "source": [
        "# Plotting histogram for Total_Links\n",
        "plt.figure(figsize=(12,6))\n",
        "plt.subplot(1,2,1)\n",
        "sns.distplot(email_df['Total_Links'])"
      ],
      "metadata": {
        "colab": {
          "base_uri": "https://localhost:8080/",
          "height": 464
        },
        "id": "XmW-lONTbsRO",
        "outputId": "4be049a0-b860-4c75-c37b-6e0b2a8a7419"
      },
      "execution_count": 25,
      "outputs": [
        {
          "output_type": "stream",
          "name": "stderr",
          "text": [
            "/usr/local/lib/python3.7/dist-packages/seaborn/distributions.py:2619: FutureWarning: `distplot` is a deprecated function and will be removed in a future version. Please adapt your code to use either `displot` (a figure-level function with similar flexibility) or `histplot` (an axes-level function for histograms).\n",
            "  warnings.warn(msg, FutureWarning)\n"
          ]
        },
        {
          "output_type": "execute_result",
          "data": {
            "text/plain": [
              "<matplotlib.axes._subplots.AxesSubplot at 0x7f8c75e59590>"
            ]
          },
          "metadata": {},
          "execution_count": 25
        },
        {
          "output_type": "display_data",
          "data": {
            "text/plain": [
              "<Figure size 864x432 with 1 Axes>"
            ],
            "image/png": "[encoded data removed]"
          },
          "metadata": {
            "needs_background": "light"
          }
        }
      ]
    },
    {
      "cell_type": "code",
      "source": [
        "#Checking average number of links in an email\n",
        "print(f\"Average number of links in an email : {email_df['Total_Links'].mean()}\")"
      ],
      "metadata": {
        "colab": {
          "base_uri": "https://localhost:8080/"
        },
        "id": "toF0sJv0cOlA",
        "outputId": "8ffa70e5-8e0c-48c7-a95a-cb7f66af8854"
      },
      "execution_count": 26,
      "outputs": [
        {
          "output_type": "stream",
          "name": "stdout",
          "text": [
            "Average number of links in an email : 10.447895483738826\n"
          ]
        }
      ]
    },
    {
      "cell_type": "markdown",
      "source": [
        "Inference-Total link numbers has no distinct distribution. Emails have mean number of links around 10"
      ],
      "metadata": {
        "id": "yqjCB9Uebr7l"
      }
    },
    {
      "cell_type": "code",
      "source": [
        "# Plotting histogram for Word_Count\n",
        "plt.figure(figsize=(12,6))\n",
        "plt.subplot(1,2,1)\n",
        "sns.distplot(email_df['Word_Count'])"
      ],
      "metadata": {
        "colab": {
          "base_uri": "https://localhost:8080/",
          "height": 464
        },
        "id": "hqJ2-LBoc0Fk",
        "outputId": "84035d94-982f-43c0-b24e-7064174bfc9c"
      },
      "execution_count": 27,
      "outputs": [
        {
          "output_type": "stream",
          "name": "stderr",
          "text": [
            "/usr/local/lib/python3.7/dist-packages/seaborn/distributions.py:2619: FutureWarning: `distplot` is a deprecated function and will be removed in a future version. Please adapt your code to use either `displot` (a figure-level function with similar flexibility) or `histplot` (an axes-level function for histograms).\n",
            "  warnings.warn(msg, FutureWarning)\n"
          ]
        },
        {
          "output_type": "execute_result",
          "data": {
            "text/plain": [
              "<matplotlib.axes._subplots.AxesSubplot at 0x7f8c75e59910>"
            ]
          },
          "metadata": {},
          "execution_count": 27
        },
        {
          "output_type": "display_data",
          "data": {
            "text/plain": [
              "<Figure size 864x432 with 1 Axes>"
            ],
            "image/png": "[encoded data removed]"
          },
          "metadata": {
            "needs_background": "light"
          }
        }
      ]
    },
    {
      "cell_type": "markdown",
      "source": [
        "Inference : As we can see email word counts is somehow normally distributed with average number of words around 700.\n"
      ],
      "metadata": {
        "id": "mF6PqtJgc5sr"
      }
    },
    {
      "cell_type": "code",
      "source": [
        "# Plotting histogram for Total_Images\n",
        "plt.figure(figsize=(12,6))\n",
        "plt.subplot(1,2,1)\n",
        "sns.distplot(email_df['Total_Images'])"
      ],
      "metadata": {
        "colab": {
          "base_uri": "https://localhost:8080/",
          "height": 464
        },
        "id": "9lonTAPcdUJD",
        "outputId": "776c9c4f-2498-435d-b978-b8a349c1f1c7"
      },
      "execution_count": 28,
      "outputs": [
        {
          "output_type": "stream",
          "name": "stderr",
          "text": [
            "/usr/local/lib/python3.7/dist-packages/seaborn/distributions.py:2619: FutureWarning: `distplot` is a deprecated function and will be removed in a future version. Please adapt your code to use either `displot` (a figure-level function with similar flexibility) or `histplot` (an axes-level function for histograms).\n",
            "  warnings.warn(msg, FutureWarning)\n"
          ]
        },
        {
          "output_type": "execute_result",
          "data": {
            "text/plain": [
              "<matplotlib.axes._subplots.AxesSubplot at 0x7f8c76336910>"
            ]
          },
          "metadata": {},
          "execution_count": 28
        },
        {
          "output_type": "display_data",
          "data": {
            "text/plain": [
              "<Figure size 864x432 with 1 Axes>"
            ],
            "image/png": "[encoded data removed]"
          },
          "metadata": {
            "needs_background": "light"
          }
        }
      ]
    },
    {
      "cell_type": "markdown",
      "source": [
        "Inference - Most of the mails have no photo."
      ],
      "metadata": {
        "id": "DlvsIx-tdZ7O"
      }
    },
    {
      "cell_type": "code",
      "source": [
        "# Plotting histogram for Email Type\n",
        "sns.countplot(email_df['Email_Status'])"
      ],
      "metadata": {
        "colab": {
          "base_uri": "https://localhost:8080/",
          "height": 355
        },
        "id": "pEpeXg66dtVz",
        "outputId": "1e99cfdb-503a-4483-e643-070f8c21b671"
      },
      "execution_count": 29,
      "outputs": [
        {
          "output_type": "stream",
          "name": "stderr",
          "text": [
            "/usr/local/lib/python3.7/dist-packages/seaborn/_decorators.py:43: FutureWarning: Pass the following variable as a keyword arg: x. From version 0.12, the only valid positional argument will be `data`, and passing other arguments without an explicit keyword will result in an error or misinterpretation.\n",
            "  FutureWarning\n"
          ]
        },
        {
          "output_type": "execute_result",
          "data": {
            "text/plain": [
              "<matplotlib.axes._subplots.AxesSubplot at 0x7f8c7da97dd0>"
            ]
          },
          "metadata": {},
          "execution_count": 29
        },
        {
          "output_type": "display_data",
          "data": {
            "text/plain": [
              "<Figure size 432x288 with 1 Axes>"
            ],
            "image/png": "[encoded data removed]"
          },
          "metadata": {
            "needs_background": "light"
          }
        }
      ]
    },
    {
      "cell_type": "markdown",
      "source": [
        "Inference- Very few number of customer are acknowledging the mails. Some customers are also reading the mails which is good for campaign."
      ],
      "metadata": {
        "id": "UE4C1O54e2NV"
      }
    },
    {
      "cell_type": "code",
      "source": [
        "# Plotting a pie chart for Email_Status\n",
        "plt.figure(figsize = (12,9))\n",
        "plt.pie(email_df['Email_Status'].value_counts(), labels = [0,1,2], explode = [0,0.1,0.1], autopct='%1.2f%%', shadow = True)"
      ],
      "metadata": {
        "colab": {
          "base_uri": "https://localhost:8080/",
          "height": 686
        },
        "id": "dftyK4tWnIN7",
        "outputId": "1e608c38-edac-433e-c4ef-6fb3c7658488"
      },
      "execution_count": 30,
      "outputs": [
        {
          "output_type": "execute_result",
          "data": {
            "text/plain": [
              "([<matplotlib.patches.Wedge at 0x7f8c75b053d0>,\n",
              "  <matplotlib.patches.Wedge at 0x7f8c75b05e10>,\n",
              "  <matplotlib.patches.Wedge at 0x7f8c75a91a10>],\n",
              " [Text(-0.8975404408883408, 0.6359411584179488, '0'),\n",
              "  Text(0.8978020017290247, -0.7962107545690126, '1'),\n",
              "  Text(1.19286980973148, -0.13062012490877054, '2')],\n",
              " [Text(-0.48956751321182224, 0.34687699550069934, '80.38%'),\n",
              "  Text(0.523717834341931, -0.46445627349859064, '16.15%'),\n",
              "  Text(0.6958407223433632, -0.07619507286344948, '3.47%')])"
            ]
          },
          "metadata": {},
          "execution_count": 30
        },
        {
          "output_type": "display_data",
          "data": {
            "text/plain": [
              "<Figure size 864x648 with 1 Axes>"
            ],
            "image/png": "[encoded data removed]"
          },
          "metadata": {}
        }
      ]
    },
    {
      "cell_type": "markdown",
      "source": [
        "We have multiclass dependent variable and from pie chart we can see status has 80.4% data so we can conclude our data is imbalanced.\n"
      ],
      "metadata": {
        "id": "XZUDcZoIn_BR"
      }
    },
    {
      "cell_type": "markdown",
      "source": [
        "###Unique Values"
      ],
      "metadata": {
        "id": "K__iIogUk_9N"
      }
    },
    {
      "cell_type": "code",
      "source": [
        "#Plotting unique values in each feature\n",
        "unique_df = pd.DataFrame()\n",
        "unique_df['Features'] = email_df.columns\n",
        "unique=[]\n",
        "for i in email_df.columns:\n",
        "    unique.append(email_df[i].nunique())\n",
        "unique_df['Uniques'] = unique\n",
        "\n",
        "f, ax = plt.subplots(1,1, figsize=(15,7))\n",
        "\n",
        "splot = sns.barplot(x=unique_df['Features'], y=unique_df['Uniques'], alpha=0.8)\n",
        "for p in splot.patches:\n",
        "    splot.annotate(format(p.get_height(), '.0f'), (p.get_x() + p.get_width() / 2., p.get_height()), ha = 'center',\n",
        "                   va = 'center', xytext = (0, 9), textcoords = 'offset points')\n",
        "plt.title('Bar plot for number of unique values in each column',weight='bold', size=15)\n",
        "plt.ylabel('#Unique values', size=12, weight='bold')\n",
        "plt.xlabel('Features', size=12, weight='bold')\n",
        "plt.xticks(rotation=90)\n",
        "plt.show()"
      ],
      "metadata": {
        "id": "ckY61DwxjRkS",
        "colab": {
          "base_uri": "https://localhost:8080/",
          "height": 591
        },
        "outputId": "0da6355b-9c07-4616-92ac-22542166990c"
      },
      "execution_count": 31,
      "outputs": [
        {
          "output_type": "display_data",
          "data": {
            "text/plain": [
              "<Figure size 1080x504 with 1 Axes>"
            ],
            "image/png": "[encoded data removed]"
          },
          "metadata": {
            "needs_background": "light"
          }
        }
      ]
    },
    {
      "cell_type": "markdown",
      "source": [
        "###**Handling Outliers**"
      ],
      "metadata": {
        "id": "iOYlZnGSrOTq"
      }
    },
    {
      "cell_type": "code",
      "source": [
        "#Extracting the numerical features\n",
        "numerical_columns=list(email_df.select_dtypes(['int64','float64']).columns)\n",
        "numerical_features=pd.Index(numerical_columns)\n",
        "numerical_features"
      ],
      "metadata": {
        "colab": {
          "base_uri": "https://localhost:8080/"
        },
        "id": "gsgvi9a3lPud",
        "outputId": "8d4b2b47-a82c-4282-a2cc-d30b11dd5a89"
      },
      "execution_count": 32,
      "outputs": [
        {
          "output_type": "execute_result",
          "data": {
            "text/plain": [
              "Index(['Email_Type', 'Subject_Hotness_Score', 'Email_Source_Type',\n",
              "       'Email_Campaign_Type', 'Total_Past_Communications',\n",
              "       'Time_Email_sent_Category', 'Word_Count', 'Total_Links', 'Total_Images',\n",
              "       'Email_Status'],\n",
              "      dtype='object')"
            ]
          },
          "metadata": {},
          "execution_count": 32
        }
      ]
    },
    {
      "cell_type": "code",
      "source": [
        "#Extracting the discrete variables from feature\n",
        "discrete = []\n",
        "for var in numerical_features:\n",
        "    if len(email_df[var].unique())<20:\n",
        "        print(var, ' values: ', email_df[var].unique())\n",
        "        discrete.append(var)\n",
        "        \n",
        "print('There are {} discrete variables'.format(len(discrete)))"
      ],
      "metadata": {
        "colab": {
          "base_uri": "https://localhost:8080/"
        },
        "id": "NRoKZCbllcYT",
        "outputId": "90d502e1-2d4f-4114-8add-bb6a31f0ee27"
      },
      "execution_count": 33,
      "outputs": [
        {
          "output_type": "stream",
          "name": "stdout",
          "text": [
            "Email_Type  values:  [1 2]\n",
            "Email_Source_Type  values:  [2 1]\n",
            "Email_Campaign_Type  values:  [2 3 1]\n",
            "Time_Email_sent_Category  values:  [1 2 3]\n",
            "Email_Status  values:  [0 1 2]\n",
            "There are 5 discrete variables\n"
          ]
        }
      ]
    },
    {
      "cell_type": "code",
      "source": [
        "#Extracting the continous variables from features\n",
        "continuous = [var for var in numerical_features if var not in discrete and var not in ['Id']]\n"
      ],
      "metadata": {
        "id": "CLBTYIjIlj7s"
      },
      "execution_count": 34,
      "outputs": []
    },
    {
      "cell_type": "code",
      "source": [
        "#plotting the outliers boxplot and spread of variance in features\n",
        "for var in continuous:\n",
        "    plt.figure(figsize=(15,6))\n",
        "    plt.subplot(1, 2, 1)\n",
        "    fig = sns.boxplot(y=email_df[var])\n",
        "    fig.set_title('')\n",
        "    fig.set_ylabel(var)\n",
        "    \n",
        "    plt.subplot(1, 2, 2)\n",
        "    fig = sns.distplot(email_df[var].dropna())\n",
        "    fig.set_xlabel(var)\n",
        "\n",
        "    plt.show()"
      ],
      "metadata": {
        "colab": {
          "base_uri": "https://localhost:8080/",
          "height": 1000
        },
        "id": "jM6cCGBZlrcM",
        "outputId": "c9d800c5-055b-446f-a7a6-9956d0c8c4d0"
      },
      "execution_count": 35,
      "outputs": [
        {
          "output_type": "stream",
          "name": "stderr",
          "text": [
            "/usr/local/lib/python3.7/dist-packages/seaborn/distributions.py:2619: FutureWarning: `distplot` is a deprecated function and will be removed in a future version. Please adapt your code to use either `displot` (a figure-level function with similar flexibility) or `histplot` (an axes-level function for histograms).\n",
            "  warnings.warn(msg, FutureWarning)\n"
          ]
        },
        {
          "output_type": "display_data",
          "data": {
            "text/plain": [
              "<Figure size 1080x432 with 2 Axes>"
            ],
            "image/png": "[encoded data removed]"
          },
          "metadata": {
            "needs_background": "light"
          }
        },
        {
          "output_type": "stream",
          "name": "stderr",
          "text": [
            "/usr/local/lib/python3.7/dist-packages/seaborn/distributions.py:2619: FutureWarning: `distplot` is a deprecated function and will be removed in a future version. Please adapt your code to use either `displot` (a figure-level function with similar flexibility) or `histplot` (an axes-level function for histograms).\n",
            "  warnings.warn(msg, FutureWarning)\n"
          ]
        },
        {
          "output_type": "display_data",
          "data": {
            "text/plain": [
              "<Figure size 1080x432 with 2 Axes>"
            ],
            "image/png": "[encoded data removed]"
          },
          "metadata": {
            "needs_background": "light"
          }
        },
        {
          "output_type": "stream",
          "name": "stderr",
          "text": [
            "/usr/local/lib/python3.7/dist-packages/seaborn/distributions.py:2619: FutureWarning: `distplot` is a deprecated function and will be removed in a future version. Please adapt your code to use either `displot` (a figure-level function with similar flexibility) or `histplot` (an axes-level function for histograms).\n",
            "  warnings.warn(msg, FutureWarning)\n"
          ]
        },
        {
          "output_type": "display_data",
          "data": {
            "text/plain": [
              "<Figure size 1080x432 with 2 Axes>"
            ],
            "image/png": "[encoded data removed]"
          },
          "metadata": {
            "needs_background": "light"
          }
        },
        {
          "output_type": "stream",
          "name": "stderr",
          "text": [
            "/usr/local/lib/python3.7/dist-packages/seaborn/distributions.py:2619: FutureWarning: `distplot` is a deprecated function and will be removed in a future version. Please adapt your code to use either `displot` (a figure-level function with similar flexibility) or `histplot` (an axes-level function for histograms).\n",
            "  warnings.warn(msg, FutureWarning)\n"
          ]
        },
        {
          "output_type": "display_data",
          "data": {
            "text/plain": [
              "<Figure size 1080x432 with 2 Axes>"
            ],
            "image/png": "[encoded data removed]"
          },
          "metadata": {
            "needs_background": "light"
          }
        },
        {
          "output_type": "stream",
          "name": "stderr",
          "text": [
            "/usr/local/lib/python3.7/dist-packages/seaborn/distributions.py:2619: FutureWarning: `distplot` is a deprecated function and will be removed in a future version. Please adapt your code to use either `displot` (a figure-level function with similar flexibility) or `histplot` (an axes-level function for histograms).\n",
            "  warnings.warn(msg, FutureWarning)\n"
          ]
        },
        {
          "output_type": "display_data",
          "data": {
            "text/plain": [
              "<Figure size 1080x432 with 2 Axes>"
            ],
            "image/png": "[encoded data removed]"
          },
          "metadata": {
            "needs_background": "light"
          }
        }
      ]
    },
    {
      "cell_type": "markdown",
      "source": [
        "###From the above plots we can say that we have some outliers.\n",
        "\n",
        "\n",
        "1.   Subject Hotness Score\n",
        "2.   Past communications\n",
        "\n",
        "1.   Total Image\n",
        "2.   Total Link\n",
        "\n",
        "\n",
        "\n"
      ],
      "metadata": {
        "id": "5iL4Tv7kto0H"
      }
    },
    {
      "cell_type": "code",
      "source": [
        "#Creating the temporary dataframe\n",
        "temparary_df = email_df[['Email_Status','Subject_Hotness_Score','Total_Links','Total_Images','Total_Past_Communications']]"
      ],
      "metadata": {
        "id": "1MCUVnCcxrCV"
      },
      "execution_count": 36,
      "outputs": []
    },
    {
      "cell_type": "code",
      "source": [
        "temparary_df['Email_Status'] = temparary_df.loc[temparary_df.index, 'Email_Status'].copy()\n"
      ],
      "metadata": {
        "colab": {
          "base_uri": "https://localhost:8080/"
        },
        "id": "epJ7tabtycIj",
        "outputId": "e7ca608c-7734-4601-f2b6-104d01fd51df"
      },
      "execution_count": 37,
      "outputs": [
        {
          "output_type": "stream",
          "name": "stderr",
          "text": [
            "/usr/local/lib/python3.7/dist-packages/ipykernel_launcher.py:1: SettingWithCopyWarning: \n",
            "A value is trying to be set on a copy of a slice from a DataFrame.\n",
            "Try using .loc[row_indexer,col_indexer] = value instead\n",
            "\n",
            "See the caveats in the documentation: https://pandas.pydata.org/pandas-docs/stable/user_guide/indexing.html#returning-a-view-versus-a-copy\n",
            "  \"\"\"Entry point for launching an IPython kernel.\n"
          ]
        }
      ]
    },
    {
      "cell_type": "code",
      "source": [
        "#plotiing outliers of features present w.r.t the status feature\n",
        "ix = 1\n",
        "fig = plt.figure(figsize = (15,10))\n",
        "for c in list(temparary_df.columns):\n",
        "    if ix <= 3:\n",
        "        if c != 'status':\n",
        "            ax1 = fig.add_subplot(2,3,ix)\n",
        "            sns.boxplot(data=temparary_df, x='Email_Status', y=c, ax=ax1)        \n",
        "    ix = ix +1\n",
        "    if ix == 4: \n",
        "        fig = plt.figure(figsize = (15,10))\n",
        "        ix =1"
      ],
      "metadata": {
        "colab": {
          "base_uri": "https://localhost:8080/",
          "height": 606
        },
        "id": "NDVk8L7FysdD",
        "outputId": "5ae8e11f-e423-499e-8edb-95350950b493"
      },
      "execution_count": 38,
      "outputs": [
        {
          "output_type": "display_data",
          "data": {
            "text/plain": [
              "<Figure size 1080x720 with 3 Axes>"
            ],
            "image/png": "[encoded data removed]"
          },
          "metadata": {
            "needs_background": "light"
          }
        },
        {
          "output_type": "display_data",
          "data": {
            "text/plain": [
              "<Figure size 1080x720 with 2 Axes>"
            ],
            "image/png": "[encoded data removed]"
          },
          "metadata": {
            "needs_background": "light"
          }
        }
      ]
    },
    {
      "cell_type": "markdown",
      "source": [
        "We plot the number of outliers with respect to the individual classes of our target variable.As we know our dataset imbalanced so removing outliers will affect on minority class so we will keep the outliers and we will use machine learning models which are robust to outliers.\n"
      ],
      "metadata": {
        "id": "IE3ZpCB40INO"
      }
    },
    {
      "cell_type": "markdown",
      "source": [
        "##**Categorical Encoding**"
      ],
      "metadata": {
        "id": "t1_fPwKU0dvu"
      }
    },
    {
      "cell_type": "code",
      "source": [
        "#creating dummies for categorical variables\n",
        "category_col=['Email_Type','Email_Source_Type','Email_Campaign_Type']\n",
        "new_dataframe=pd.get_dummies(email_df, columns=category_col)\n",
        "new_dataframe.drop('Email_Type_2',axis=1,inplace=True) #Since they have binary category\n",
        "new_dataframe.drop('Email_Source_Type_2',axis=1,inplace=True)"
      ],
      "metadata": {
        "id": "g8xxhMh10nIR"
      },
      "execution_count": 39,
      "outputs": []
    },
    {
      "cell_type": "code",
      "source": [
        "new_dataframe.head()"
      ],
      "metadata": {
        "colab": {
          "base_uri": "https://localhost:8080/",
          "height": 270
        },
        "id": "0YzLkNTn2Nlg",
        "outputId": "6ca8cbeb-a777-4d98-d486-77f68c1bb72d"
      },
      "execution_count": 40,
      "outputs": [
        {
          "output_type": "execute_result",
          "data": {
            "text/plain": [
              "            Email_ID  Subject_Hotness_Score  Total_Past_Communications  \\\n",
              "0  EMA00081000034500                    2.2                       33.0   \n",
              "1  EMA00081000045360                    2.1                       15.0   \n",
              "2  EMA00081000066290                    0.1                       36.0   \n",
              "3  EMA00081000076560                    3.0                       25.0   \n",
              "4  EMA00081000109720                    0.0                       18.0   \n",
              "\n",
              "   Time_Email_sent_Category  Word_Count  Total_Links  Total_Images  \\\n",
              "0                         1         440          8.0           0.0   \n",
              "1                         2         504          5.0           0.0   \n",
              "2                         2         962          5.0           0.0   \n",
              "3                         2         610         16.0           0.0   \n",
              "4                         2         947          4.0           0.0   \n",
              "\n",
              "   Email_Status  Email_Type_1  Email_Source_Type_1  Email_Campaign_Type_1  \\\n",
              "0             0             1                    0                      0   \n",
              "1             0             0                    1                      0   \n",
              "2             1             0                    1                      0   \n",
              "3             0             1                    0                      0   \n",
              "4             0             1                    0                      0   \n",
              "\n",
              "   Email_Campaign_Type_2  Email_Campaign_Type_3  \n",
              "0                      1                      0  \n",
              "1                      1                      0  \n",
              "2                      0                      1  \n",
              "3                      1                      0  \n",
              "4                      0                      1  "
            ],
            "text/html": [
              "\n",
              "  <div id=\"df-c795ee45-e663-4e63-a89d-6890003352c3\">\n",
              "    <div class=\"colab-df-container\">\n",
              "      <div>\n",
              "<style scoped>\n",
              "    .dataframe tbody tr th:only-of-type {\n",
              "        vertical-align: middle;\n",
              "    }\n",
              "\n",
              "    .dataframe tbody tr th {\n",
              "        vertical-align: top;\n",
              "    }\n",
              "\n",
              "    .dataframe thead th {\n",
              "        text-align: right;\n",
              "    }\n",
              "</style>\n",
              "<table border=\"1\" class=\"dataframe\">\n",
              "  <thead>\n",
              "    <tr style=\"text-align: right;\">\n",
              "      <th></th>\n",
              "      <th>Email_ID</th>\n",
              "      <th>Subject_Hotness_Score</th>\n",
              "      <th>Total_Past_Communications</th>\n",
              "      <th>Time_Email_sent_Category</th>\n",
              "      <th>Word_Count</th>\n",
              "      <th>Total_Links</th>\n",
              "      <th>Total_Images</th>\n",
              "      <th>Email_Status</th>\n",
              "      <th>Email_Type_1</th>\n",
              "      <th>Email_Source_Type_1</th>\n",
              "      <th>Email_Campaign_Type_1</th>\n",
              "      <th>Email_Campaign_Type_2</th>\n",
              "      <th>Email_Campaign_Type_3</th>\n",
              "    </tr>\n",
              "  </thead>\n",
              "  <tbody>\n",
              "    <tr>\n",
              "      <th>0</th>\n",
              "      <td>EMA00081000034500</td>\n",
              "      <td>2.2</td>\n",
              "      <td>33.0</td>\n",
              "      <td>1</td>\n",
              "      <td>440</td>\n",
              "      <td>8.0</td>\n",
              "      <td>0.0</td>\n",
              "      <td>0</td>\n",
              "      <td>1</td>\n",
              "      <td>0</td>\n",
              "      <td>0</td>\n",
              "      <td>1</td>\n",
              "      <td>0</td>\n",
              "    </tr>\n",
              "    <tr>\n",
              "      <th>1</th>\n",
              "      <td>EMA00081000045360</td>\n",
              "      <td>2.1</td>\n",
              "      <td>15.0</td>\n",
              "      <td>2</td>\n",
              "      <td>504</td>\n",
              "      <td>5.0</td>\n",
              "      <td>0.0</td>\n",
              "      <td>0</td>\n",
              "      <td>0</td>\n",
              "      <td>1</td>\n",
              "      <td>0</td>\n",
              "      <td>1</td>\n",
              "      <td>0</td>\n",
              "    </tr>\n",
              "    <tr>\n",
              "      <th>2</th>\n",
              "      <td>EMA00081000066290</td>\n",
              "      <td>0.1</td>\n",
              "      <td>36.0</td>\n",
              "      <td>2</td>\n",
              "      <td>962</td>\n",
              "      <td>5.0</td>\n",
              "      <td>0.0</td>\n",
              "      <td>1</td>\n",
              "      <td>0</td>\n",
              "      <td>1</td>\n",
              "      <td>0</td>\n",
              "      <td>0</td>\n",
              "      <td>1</td>\n",
              "    </tr>\n",
              "    <tr>\n",
              "      <th>3</th>\n",
              "      <td>EMA00081000076560</td>\n",
              "      <td>3.0</td>\n",
              "      <td>25.0</td>\n",
              "      <td>2</td>\n",
              "      <td>610</td>\n",
              "      <td>16.0</td>\n",
              "      <td>0.0</td>\n",
              "      <td>0</td>\n",
              "      <td>1</td>\n",
              "      <td>0</td>\n",
              "      <td>0</td>\n",
              "      <td>1</td>\n",
              "      <td>0</td>\n",
              "    </tr>\n",
              "    <tr>\n",
              "      <th>4</th>\n",
              "      <td>EMA00081000109720</td>\n",
              "      <td>0.0</td>\n",
              "      <td>18.0</td>\n",
              "      <td>2</td>\n",
              "      <td>947</td>\n",
              "      <td>4.0</td>\n",
              "      <td>0.0</td>\n",
              "      <td>0</td>\n",
              "      <td>1</td>\n",
              "      <td>0</td>\n",
              "      <td>0</td>\n",
              "      <td>0</td>\n",
              "      <td>1</td>\n",
              "    </tr>\n",
              "  </tbody>\n",
              "</table>\n",
              "</div>\n",
              "      <button class=\"colab-df-convert\" onclick=\"convertToInteractive('df-c795ee45-e663-4e63-a89d-6890003352c3')\"\n",
              "              title=\"Convert this dataframe to an interactive table.\"\n",
              "              style=\"display:none;\">\n",
              "        \n",
              "  <svg xmlns=\"http://www.w3.org/2000/svg\" height=\"24px\"viewBox=\"0 0 24 24\"\n",
              "       width=\"24px\">\n",
              "    <path d=\"M0 0h24v24H0V0z\" fill=\"none\"/>\n",
              "    <path d=\"M18.56 5.44l.94 2.06.94-2.06 2.06-.94-2.06-.94-.94-2.06-.94 2.06-2.06.94zm-11 1L8.5 8.5l.94-2.06 2.06-.94-2.06-.94L8.5 2.5l-.94 2.06-2.06.94zm10 10l.94 2.06.94-2.06 2.06-.94-2.06-.94-.94-2.06-.94 2.06-2.06.94z\"/><path d=\"M17.41 7.96l-1.37-1.37c-.4-.4-.92-.59-1.43-.59-.52 0-1.04.2-1.43.59L10.3 9.45l-7.72 7.72c-.78.78-.78 2.05 0 2.83L4 21.41c.39.39.9.59 1.41.59.51 0 1.02-.2 1.41-.59l7.78-7.78 2.81-2.81c.8-.78.8-2.07 0-2.86zM5.41 20L4 18.59l7.72-7.72 1.47 1.35L5.41 20z\"/>\n",
              "  </svg>\n",
              "      </button>\n",
              "      \n",
              "  <style>\n",
              "    .colab-df-container {\n",
              "      display:flex;\n",
              "      flex-wrap:wrap;\n",
              "      gap: 12px;\n",
              "    }\n",
              "\n",
              "    .colab-df-convert {\n",
              "      background-color: #E8F0FE;\n",
              "      border: none;\n",
              "      border-radius: 50%;\n",
              "      cursor: pointer;\n",
              "      display: none;\n",
              "      fill: #1967D2;\n",
              "      height: 32px;\n",
              "      padding: 0 0 0 0;\n",
              "      width: 32px;\n",
              "    }\n",
              "\n",
              "    .colab-df-convert:hover {\n",
              "      background-color: #E2EBFA;\n",
              "      box-shadow: 0px 1px 2px rgba(60, 64, 67, 0.3), 0px 1px 3px 1px rgba(60, 64, 67, 0.15);\n",
              "      fill: #174EA6;\n",
              "    }\n",
              "\n",
              "    [theme=dark] .colab-df-convert {\n",
              "      background-color: #3B4455;\n",
              "      fill: #D2E3FC;\n",
              "    }\n",
              "\n",
              "    [theme=dark] .colab-df-convert:hover {\n",
              "      background-color: #434B5C;\n",
              "      box-shadow: 0px 1px 3px 1px rgba(0, 0, 0, 0.15);\n",
              "      filter: drop-shadow(0px 1px 2px rgba(0, 0, 0, 0.3));\n",
              "      fill: #FFFFFF;\n",
              "    }\n",
              "  </style>\n",
              "\n",
              "      <script>\n",
              "        const buttonEl =\n",
              "          document.querySelector('#df-c795ee45-e663-4e63-a89d-6890003352c3 button.colab-df-convert');\n",
              "        buttonEl.style.display =\n",
              "          google.colab.kernel.accessAllowed ? 'block' : 'none';\n",
              "\n",
              "        async function convertToInteractive(key) {\n",
              "          const element = document.querySelector('#df-c795ee45-e663-4e63-a89d-6890003352c3');\n",
              "          const dataTable =\n",
              "            await google.colab.kernel.invokeFunction('convertToInteractive',\n",
              "                                                     [key], {});\n",
              "          if (!dataTable) return;\n",
              "\n",
              "          const docLinkHtml = 'Like what you see? Visit the ' +\n",
              "            '<a target=\"_blank\" href=https://colab.research.google.com/notebooks/data_table.ipynb>data table notebook</a>'\n",
              "            + ' to learn more about interactive tables.';\n",
              "          element.innerHTML = '';\n",
              "          dataTable['output_type'] = 'display_data';\n",
              "          await google.colab.output.renderOutput(dataTable, element);\n",
              "          const docLink = document.createElement('div');\n",
              "          docLink.innerHTML = docLinkHtml;\n",
              "          element.appendChild(docLink);\n",
              "        }\n",
              "      </script>\n",
              "    </div>\n",
              "  </div>\n",
              "  "
            ]
          },
          "metadata": {},
          "execution_count": 40
        }
      ]
    },
    {
      "cell_type": "code",
      "source": [
        "#Pushing Email_Status at last of the DataFrame\n",
        "list_of_column=list(new_dataframe.columns)\n",
        "list_of_column.remove('Email_Status')\n",
        "list_of_column.append('Email_Status')\n",
        "list_of_column\n",
        "new_dataframe=new_dataframe[list_of_column]\n",
        "new_dataframe.head()"
      ],
      "metadata": {
        "colab": {
          "base_uri": "https://localhost:8080/",
          "height": 270
        },
        "id": "-YYlDtL02vAn",
        "outputId": "68c1f57c-c062-4f5e-d047-96b34415f0fb"
      },
      "execution_count": 41,
      "outputs": [
        {
          "output_type": "execute_result",
          "data": {
            "text/plain": [
              "            Email_ID  Subject_Hotness_Score  Total_Past_Communications  \\\n",
              "0  EMA00081000034500                    2.2                       33.0   \n",
              "1  EMA00081000045360                    2.1                       15.0   \n",
              "2  EMA00081000066290                    0.1                       36.0   \n",
              "3  EMA00081000076560                    3.0                       25.0   \n",
              "4  EMA00081000109720                    0.0                       18.0   \n",
              "\n",
              "   Time_Email_sent_Category  Word_Count  Total_Links  Total_Images  \\\n",
              "0                         1         440          8.0           0.0   \n",
              "1                         2         504          5.0           0.0   \n",
              "2                         2         962          5.0           0.0   \n",
              "3                         2         610         16.0           0.0   \n",
              "4                         2         947          4.0           0.0   \n",
              "\n",
              "   Email_Type_1  Email_Source_Type_1  Email_Campaign_Type_1  \\\n",
              "0             1                    0                      0   \n",
              "1             0                    1                      0   \n",
              "2             0                    1                      0   \n",
              "3             1                    0                      0   \n",
              "4             1                    0                      0   \n",
              "\n",
              "   Email_Campaign_Type_2  Email_Campaign_Type_3  Email_Status  \n",
              "0                      1                      0             0  \n",
              "1                      1                      0             0  \n",
              "2                      0                      1             1  \n",
              "3                      1                      0             0  \n",
              "4                      0                      1             0  "
            ],
            "text/html": [
              "\n",
              "  <div id=\"df-a9b1a3ca-b825-4a63-bf20-46f655efcb34\">\n",
              "    <div class=\"colab-df-container\">\n",
              "      <div>\n",
              "<style scoped>\n",
              "    .dataframe tbody tr th:only-of-type {\n",
              "        vertical-align: middle;\n",
              "    }\n",
              "\n",
              "    .dataframe tbody tr th {\n",
              "        vertical-align: top;\n",
              "    }\n",
              "\n",
              "    .dataframe thead th {\n",
              "        text-align: right;\n",
              "    }\n",
              "</style>\n",
              "<table border=\"1\" class=\"dataframe\">\n",
              "  <thead>\n",
              "    <tr style=\"text-align: right;\">\n",
              "      <th></th>\n",
              "      <th>Email_ID</th>\n",
              "      <th>Subject_Hotness_Score</th>\n",
              "      <th>Total_Past_Communications</th>\n",
              "      <th>Time_Email_sent_Category</th>\n",
              "      <th>Word_Count</th>\n",
              "      <th>Total_Links</th>\n",
              "      <th>Total_Images</th>\n",
              "      <th>Email_Type_1</th>\n",
              "      <th>Email_Source_Type_1</th>\n",
              "      <th>Email_Campaign_Type_1</th>\n",
              "      <th>Email_Campaign_Type_2</th>\n",
              "      <th>Email_Campaign_Type_3</th>\n",
              "      <th>Email_Status</th>\n",
              "    </tr>\n",
              "  </thead>\n",
              "  <tbody>\n",
              "    <tr>\n",
              "      <th>0</th>\n",
              "      <td>EMA00081000034500</td>\n",
              "      <td>2.2</td>\n",
              "      <td>33.0</td>\n",
              "      <td>1</td>\n",
              "      <td>440</td>\n",
              "      <td>8.0</td>\n",
              "      <td>0.0</td>\n",
              "      <td>1</td>\n",
              "      <td>0</td>\n",
              "      <td>0</td>\n",
              "      <td>1</td>\n",
              "      <td>0</td>\n",
              "      <td>0</td>\n",
              "    </tr>\n",
              "    <tr>\n",
              "      <th>1</th>\n",
              "      <td>EMA00081000045360</td>\n",
              "      <td>2.1</td>\n",
              "      <td>15.0</td>\n",
              "      <td>2</td>\n",
              "      <td>504</td>\n",
              "      <td>5.0</td>\n",
              "      <td>0.0</td>\n",
              "      <td>0</td>\n",
              "      <td>1</td>\n",
              "      <td>0</td>\n",
              "      <td>1</td>\n",
              "      <td>0</td>\n",
              "      <td>0</td>\n",
              "    </tr>\n",
              "    <tr>\n",
              "      <th>2</th>\n",
              "      <td>EMA00081000066290</td>\n",
              "      <td>0.1</td>\n",
              "      <td>36.0</td>\n",
              "      <td>2</td>\n",
              "      <td>962</td>\n",
              "      <td>5.0</td>\n",
              "      <td>0.0</td>\n",
              "      <td>0</td>\n",
              "      <td>1</td>\n",
              "      <td>0</td>\n",
              "      <td>0</td>\n",
              "      <td>1</td>\n",
              "      <td>1</td>\n",
              "    </tr>\n",
              "    <tr>\n",
              "      <th>3</th>\n",
              "      <td>EMA00081000076560</td>\n",
              "      <td>3.0</td>\n",
              "      <td>25.0</td>\n",
              "      <td>2</td>\n",
              "      <td>610</td>\n",
              "      <td>16.0</td>\n",
              "      <td>0.0</td>\n",
              "      <td>1</td>\n",
              "      <td>0</td>\n",
              "      <td>0</td>\n",
              "      <td>1</td>\n",
              "      <td>0</td>\n",
              "      <td>0</td>\n",
              "    </tr>\n",
              "    <tr>\n",
              "      <th>4</th>\n",
              "      <td>EMA00081000109720</td>\n",
              "      <td>0.0</td>\n",
              "      <td>18.0</td>\n",
              "      <td>2</td>\n",
              "      <td>947</td>\n",
              "      <td>4.0</td>\n",
              "      <td>0.0</td>\n",
              "      <td>1</td>\n",
              "      <td>0</td>\n",
              "      <td>0</td>\n",
              "      <td>0</td>\n",
              "      <td>1</td>\n",
              "      <td>0</td>\n",
              "    </tr>\n",
              "  </tbody>\n",
              "</table>\n",
              "</div>\n",
              "      <button class=\"colab-df-convert\" onclick=\"convertToInteractive('df-a9b1a3ca-b825-4a63-bf20-46f655efcb34')\"\n",
              "              title=\"Convert this dataframe to an interactive table.\"\n",
              "              style=\"display:none;\">\n",
              "        \n",
              "  <svg xmlns=\"http://www.w3.org/2000/svg\" height=\"24px\"viewBox=\"0 0 24 24\"\n",
              "       width=\"24px\">\n",
              "    <path d=\"M0 0h24v24H0V0z\" fill=\"none\"/>\n",
              "    <path d=\"M18.56 5.44l.94 2.06.94-2.06 2.06-.94-2.06-.94-.94-2.06-.94 2.06-2.06.94zm-11 1L8.5 8.5l.94-2.06 2.06-.94-2.06-.94L8.5 2.5l-.94 2.06-2.06.94zm10 10l.94 2.06.94-2.06 2.06-.94-2.06-.94-.94-2.06-.94 2.06-2.06.94z\"/><path d=\"M17.41 7.96l-1.37-1.37c-.4-.4-.92-.59-1.43-.59-.52 0-1.04.2-1.43.59L10.3 9.45l-7.72 7.72c-.78.78-.78 2.05 0 2.83L4 21.41c.39.39.9.59 1.41.59.51 0 1.02-.2 1.41-.59l7.78-7.78 2.81-2.81c.8-.78.8-2.07 0-2.86zM5.41 20L4 18.59l7.72-7.72 1.47 1.35L5.41 20z\"/>\n",
              "  </svg>\n",
              "      </button>\n",
              "      \n",
              "  <style>\n",
              "    .colab-df-container {\n",
              "      display:flex;\n",
              "      flex-wrap:wrap;\n",
              "      gap: 12px;\n",
              "    }\n",
              "\n",
              "    .colab-df-convert {\n",
              "      background-color: #E8F0FE;\n",
              "      border: none;\n",
              "      border-radius: 50%;\n",
              "      cursor: pointer;\n",
              "      display: none;\n",
              "      fill: #1967D2;\n",
              "      height: 32px;\n",
              "      padding: 0 0 0 0;\n",
              "      width: 32px;\n",
              "    }\n",
              "\n",
              "    .colab-df-convert:hover {\n",
              "      background-color: #E2EBFA;\n",
              "      box-shadow: 0px 1px 2px rgba(60, 64, 67, 0.3), 0px 1px 3px 1px rgba(60, 64, 67, 0.15);\n",
              "      fill: #174EA6;\n",
              "    }\n",
              "\n",
              "    [theme=dark] .colab-df-convert {\n",
              "      background-color: #3B4455;\n",
              "      fill: #D2E3FC;\n",
              "    }\n",
              "\n",
              "    [theme=dark] .colab-df-convert:hover {\n",
              "      background-color: #434B5C;\n",
              "      box-shadow: 0px 1px 3px 1px rgba(0, 0, 0, 0.15);\n",
              "      filter: drop-shadow(0px 1px 2px rgba(0, 0, 0, 0.3));\n",
              "      fill: #FFFFFF;\n",
              "    }\n",
              "  </style>\n",
              "\n",
              "      <script>\n",
              "        const buttonEl =\n",
              "          document.querySelector('#df-a9b1a3ca-b825-4a63-bf20-46f655efcb34 button.colab-df-convert');\n",
              "        buttonEl.style.display =\n",
              "          google.colab.kernel.accessAllowed ? 'block' : 'none';\n",
              "\n",
              "        async function convertToInteractive(key) {\n",
              "          const element = document.querySelector('#df-a9b1a3ca-b825-4a63-bf20-46f655efcb34');\n",
              "          const dataTable =\n",
              "            await google.colab.kernel.invokeFunction('convertToInteractive',\n",
              "                                                     [key], {});\n",
              "          if (!dataTable) return;\n",
              "\n",
              "          const docLinkHtml = 'Like what you see? Visit the ' +\n",
              "            '<a target=\"_blank\" href=https://colab.research.google.com/notebooks/data_table.ipynb>data table notebook</a>'\n",
              "            + ' to learn more about interactive tables.';\n",
              "          element.innerHTML = '';\n",
              "          dataTable['output_type'] = 'display_data';\n",
              "          await google.colab.output.renderOutput(dataTable, element);\n",
              "          const docLink = document.createElement('div');\n",
              "          docLink.innerHTML = docLinkHtml;\n",
              "          element.appendChild(docLink);\n",
              "        }\n",
              "      </script>\n",
              "    </div>\n",
              "  </div>\n",
              "  "
            ]
          },
          "metadata": {},
          "execution_count": 41
        }
      ]
    },
    {
      "cell_type": "markdown",
      "source": [
        "###**Data Transformation**"
      ],
      "metadata": {
        "id": "z7hbI4kb3ku4"
      }
    },
    {
      "cell_type": "code",
      "source": [
        "#Seprating the numerical columns\n",
        "numerical_columns = new_dataframe[['Subject_Hotness_Score','Total_Past_Communications','Word_Count','Total_Images']]"
      ],
      "metadata": {
        "id": "9TRXZSm93ovJ"
      },
      "execution_count": 42,
      "outputs": []
    },
    {
      "cell_type": "code",
      "source": [
        "#Now applying standardization formula\n",
        "for column in numerical_columns:\n",
        "  new_dataframe[column] = ((new_dataframe[column] - new_dataframe[column].mean()) / (new_dataframe[column].std()))"
      ],
      "metadata": {
        "id": "deN6nJPi3txj"
      },
      "execution_count": 43,
      "outputs": []
    },
    {
      "cell_type": "markdown",
      "source": [
        "###**Checking Correlation**"
      ],
      "metadata": {
        "id": "xwLPIOBk4Q07"
      }
    },
    {
      "cell_type": "code",
      "source": [
        "## Correlation\n",
        "plt.figure(figsize=(20,10))\n",
        "correlation=new_dataframe.corr()\n",
        "sns.heatmap(abs(correlation), annot=True, cmap='coolwarm')"
      ],
      "metadata": {
        "colab": {
          "base_uri": "https://localhost:8080/",
          "height": 741
        },
        "id": "Jg7Hzplp4Yfz",
        "outputId": "b9733bb9-e7fd-463e-f95d-e3ef90a57bf8"
      },
      "execution_count": 44,
      "outputs": [
        {
          "output_type": "execute_result",
          "data": {
            "text/plain": [
              "<matplotlib.axes._subplots.AxesSubplot at 0x7f8c761ca990>"
            ]
          },
          "metadata": {},
          "execution_count": 44
        },
        {
          "output_type": "display_data",
          "data": {
            "text/plain": [
              "<Figure size 1440x720 with 2 Axes>"
            ],
            "image/png": "[encoded data removed]"
          },
          "metadata": {
            "needs_background": "light"
          }
        }
      ]
    },
    {
      "cell_type": "markdown",
      "source": [
        "From above correlation plot we can conclude that :-\n",
        "\n",
        "\n",
        "1.   Campaign type and score has high correlation\n",
        "2.   Images and total links have high correlation\n",
        "\n",
        "1.   Past communication and score has high correlation\n",
        "\n",
        "\n",
        "\n"
      ],
      "metadata": {
        "id": "AkRRchH95WIX"
      }
    },
    {
      "cell_type": "code",
      "source": [
        "# Dealing with Multicollinearity\n",
        "from statsmodels.stats.outliers_influence import variance_inflation_factor\n",
        "def calc_vif(X):\n",
        "\n",
        "    # Calculating VIF\n",
        "    vif = pd.DataFrame()\n",
        "    vif[\"variables\"] = X.columns\n",
        "    vif[\"VIF\"] = [variance_inflation_factor(X.values, i) for i in range(X.shape[1])]\n",
        "\n",
        "    return(vif)"
      ],
      "metadata": {
        "colab": {
          "base_uri": "https://localhost:8080/"
        },
        "id": "kApjXNqN5uL5",
        "outputId": "774d6baa-d5f0-47c9-b586-e5f6a7d708cf"
      },
      "execution_count": 45,
      "outputs": [
        {
          "output_type": "stream",
          "name": "stderr",
          "text": [
            "/usr/local/lib/python3.7/dist-packages/statsmodels/tools/_testing.py:19: FutureWarning: pandas.util.testing is deprecated. Use the functions in the public API at pandas.testing instead.\n",
            "  import pandas.util.testing as tm\n"
          ]
        }
      ]
    },
    {
      "cell_type": "code",
      "source": [
        "calc_vif(new_dataframe[[i for i in new_dataframe.describe().columns if i not in ['id','location','email_type','source_type','campaign_type','category','total_links','images','status','source_type_1']]])\n"
      ],
      "metadata": {
        "colab": {
          "base_uri": "https://localhost:8080/",
          "height": 425
        },
        "id": "ElgWRcyR58T6",
        "outputId": "85aadf99-a177-475e-8703-8613e0ed722a"
      },
      "execution_count": 46,
      "outputs": [
        {
          "output_type": "execute_result",
          "data": {
            "text/plain": [
              "                    variables        VIF\n",
              "0       Subject_Hotness_Score   2.426475\n",
              "1   Total_Past_Communications   2.037156\n",
              "2    Time_Email_sent_Category   1.000145\n",
              "3                  Word_Count   1.548379\n",
              "4                 Total_Links   2.428232\n",
              "5                Total_Images   2.323690\n",
              "6                Email_Type_1   1.270041\n",
              "7         Email_Source_Type_1   1.120106\n",
              "8       Email_Campaign_Type_1   1.460299\n",
              "9       Email_Campaign_Type_2  17.311347\n",
              "10      Email_Campaign_Type_3   7.161869\n",
              "11               Email_Status   1.201182"
            ],
            "text/html": [
              "\n",
              "  <div id=\"df-84540eca-2389-40f4-8891-30b610072035\">\n",
              "    <div class=\"colab-df-container\">\n",
              "      <div>\n",
              "<style scoped>\n",
              "    .dataframe tbody tr th:only-of-type {\n",
              "        vertical-align: middle;\n",
              "    }\n",
              "\n",
              "    .dataframe tbody tr th {\n",
              "        vertical-align: top;\n",
              "    }\n",
              "\n",
              "    .dataframe thead th {\n",
              "        text-align: right;\n",
              "    }\n",
              "</style>\n",
              "<table border=\"1\" class=\"dataframe\">\n",
              "  <thead>\n",
              "    <tr style=\"text-align: right;\">\n",
              "      <th></th>\n",
              "      <th>variables</th>\n",
              "      <th>VIF</th>\n",
              "    </tr>\n",
              "  </thead>\n",
              "  <tbody>\n",
              "    <tr>\n",
              "      <th>0</th>\n",
              "      <td>Subject_Hotness_Score</td>\n",
              "      <td>2.426475</td>\n",
              "    </tr>\n",
              "    <tr>\n",
              "      <th>1</th>\n",
              "      <td>Total_Past_Communications</td>\n",
              "      <td>2.037156</td>\n",
              "    </tr>\n",
              "    <tr>\n",
              "      <th>2</th>\n",
              "      <td>Time_Email_sent_Category</td>\n",
              "      <td>1.000145</td>\n",
              "    </tr>\n",
              "    <tr>\n",
              "      <th>3</th>\n",
              "      <td>Word_Count</td>\n",
              "      <td>1.548379</td>\n",
              "    </tr>\n",
              "    <tr>\n",
              "      <th>4</th>\n",
              "      <td>Total_Links</td>\n",
              "      <td>2.428232</td>\n",
              "    </tr>\n",
              "    <tr>\n",
              "      <th>5</th>\n",
              "      <td>Total_Images</td>\n",
              "      <td>2.323690</td>\n",
              "    </tr>\n",
              "    <tr>\n",
              "      <th>6</th>\n",
              "      <td>Email_Type_1</td>\n",
              "      <td>1.270041</td>\n",
              "    </tr>\n",
              "    <tr>\n",
              "      <th>7</th>\n",
              "      <td>Email_Source_Type_1</td>\n",
              "      <td>1.120106</td>\n",
              "    </tr>\n",
              "    <tr>\n",
              "      <th>8</th>\n",
              "      <td>Email_Campaign_Type_1</td>\n",
              "      <td>1.460299</td>\n",
              "    </tr>\n",
              "    <tr>\n",
              "      <th>9</th>\n",
              "      <td>Email_Campaign_Type_2</td>\n",
              "      <td>17.311347</td>\n",
              "    </tr>\n",
              "    <tr>\n",
              "      <th>10</th>\n",
              "      <td>Email_Campaign_Type_3</td>\n",
              "      <td>7.161869</td>\n",
              "    </tr>\n",
              "    <tr>\n",
              "      <th>11</th>\n",
              "      <td>Email_Status</td>\n",
              "      <td>1.201182</td>\n",
              "    </tr>\n",
              "  </tbody>\n",
              "</table>\n",
              "</div>\n",
              "      <button class=\"colab-df-convert\" onclick=\"convertToInteractive('df-84540eca-2389-40f4-8891-30b610072035')\"\n",
              "              title=\"Convert this dataframe to an interactive table.\"\n",
              "              style=\"display:none;\">\n",
              "        \n",
              "  <svg xmlns=\"http://www.w3.org/2000/svg\" height=\"24px\"viewBox=\"0 0 24 24\"\n",
              "       width=\"24px\">\n",
              "    <path d=\"M0 0h24v24H0V0z\" fill=\"none\"/>\n",
              "    <path d=\"M18.56 5.44l.94 2.06.94-2.06 2.06-.94-2.06-.94-.94-2.06-.94 2.06-2.06.94zm-11 1L8.5 8.5l.94-2.06 2.06-.94-2.06-.94L8.5 2.5l-.94 2.06-2.06.94zm10 10l.94 2.06.94-2.06 2.06-.94-2.06-.94-.94-2.06-.94 2.06-2.06.94z\"/><path d=\"M17.41 7.96l-1.37-1.37c-.4-.4-.92-.59-1.43-.59-.52 0-1.04.2-1.43.59L10.3 9.45l-7.72 7.72c-.78.78-.78 2.05 0 2.83L4 21.41c.39.39.9.59 1.41.59.51 0 1.02-.2 1.41-.59l7.78-7.78 2.81-2.81c.8-.78.8-2.07 0-2.86zM5.41 20L4 18.59l7.72-7.72 1.47 1.35L5.41 20z\"/>\n",
              "  </svg>\n",
              "      </button>\n",
              "      \n",
              "  <style>\n",
              "    .colab-df-container {\n",
              "      display:flex;\n",
              "      flex-wrap:wrap;\n",
              "      gap: 12px;\n",
              "    }\n",
              "\n",
              "    .colab-df-convert {\n",
              "      background-color: #E8F0FE;\n",
              "      border: none;\n",
              "      border-radius: 50%;\n",
              "      cursor: pointer;\n",
              "      display: none;\n",
              "      fill: #1967D2;\n",
              "      height: 32px;\n",
              "      padding: 0 0 0 0;\n",
              "      width: 32px;\n",
              "    }\n",
              "\n",
              "    .colab-df-convert:hover {\n",
              "      background-color: #E2EBFA;\n",
              "      box-shadow: 0px 1px 2px rgba(60, 64, 67, 0.3), 0px 1px 3px 1px rgba(60, 64, 67, 0.15);\n",
              "      fill: #174EA6;\n",
              "    }\n",
              "\n",
              "    [theme=dark] .colab-df-convert {\n",
              "      background-color: #3B4455;\n",
              "      fill: #D2E3FC;\n",
              "    }\n",
              "\n",
              "    [theme=dark] .colab-df-convert:hover {\n",
              "      background-color: #434B5C;\n",
              "      box-shadow: 0px 1px 3px 1px rgba(0, 0, 0, 0.15);\n",
              "      filter: drop-shadow(0px 1px 2px rgba(0, 0, 0, 0.3));\n",
              "      fill: #FFFFFF;\n",
              "    }\n",
              "  </style>\n",
              "\n",
              "      <script>\n",
              "        const buttonEl =\n",
              "          document.querySelector('#df-84540eca-2389-40f4-8891-30b610072035 button.colab-df-convert');\n",
              "        buttonEl.style.display =\n",
              "          google.colab.kernel.accessAllowed ? 'block' : 'none';\n",
              "\n",
              "        async function convertToInteractive(key) {\n",
              "          const element = document.querySelector('#df-84540eca-2389-40f4-8891-30b610072035');\n",
              "          const dataTable =\n",
              "            await google.colab.kernel.invokeFunction('convertToInteractive',\n",
              "                                                     [key], {});\n",
              "          if (!dataTable) return;\n",
              "\n",
              "          const docLinkHtml = 'Like what you see? Visit the ' +\n",
              "            '<a target=\"_blank\" href=https://colab.research.google.com/notebooks/data_table.ipynb>data table notebook</a>'\n",
              "            + ' to learn more about interactive tables.';\n",
              "          element.innerHTML = '';\n",
              "          dataTable['output_type'] = 'display_data';\n",
              "          await google.colab.output.renderOutput(dataTable, element);\n",
              "          const docLink = document.createElement('div');\n",
              "          docLink.innerHTML = docLinkHtml;\n",
              "          element.appendChild(docLink);\n",
              "        }\n",
              "      </script>\n",
              "    </div>\n",
              "  </div>\n",
              "  "
            ]
          },
          "metadata": {},
          "execution_count": 46
        }
      ]
    },
    {
      "cell_type": "code",
      "source": [
        "# Data for all the independent variables\n",
        "X = new_dataframe.drop(labels=['Email_Status','Email_ID'],axis=1)\n",
        "\n",
        "# Data for the dependent variable\n",
        "y = new_dataframe['Email_Status']"
      ],
      "metadata": {
        "id": "9E8dEKe47K7f"
      },
      "execution_count": 47,
      "outputs": []
    },
    {
      "cell_type": "code",
      "source": [
        "from sklearn.feature_selection import SelectFromModel\n",
        "from sklearn.ensemble import RandomForestClassifier\n",
        "# define SelectFromModel feature selection method\n",
        "embeded_rf_selector = SelectFromModel(RandomForestClassifier(n_estimators=40), max_features=10,threshold=0.04)\n",
        "embeded_rf_selector.fit(X, y)\n",
        "\n",
        "embeded_rf_support = embeded_rf_selector.get_support()\n",
        "embeded_rf_feature = X.loc[:,embeded_rf_support].columns.tolist()\n",
        "print(str(len(embeded_rf_feature)), 'selected features')\n",
        "#Important features list\n",
        "embeded_rf_feature"
      ],
      "metadata": {
        "colab": {
          "base_uri": "https://localhost:8080/"
        },
        "id": "rcRo0wrj7aws",
        "outputId": "16fe8df3-e5bf-40eb-9bbc-b6d8a7a36ea2"
      },
      "execution_count": 48,
      "outputs": [
        {
          "output_type": "stream",
          "name": "stdout",
          "text": [
            "6 selected features\n"
          ]
        },
        {
          "output_type": "execute_result",
          "data": {
            "text/plain": [
              "['Subject_Hotness_Score',\n",
              " 'Total_Past_Communications',\n",
              " 'Time_Email_sent_Category',\n",
              " 'Word_Count',\n",
              " 'Total_Links',\n",
              " 'Total_Images']"
            ]
          },
          "metadata": {},
          "execution_count": 48
        }
      ]
    },
    {
      "cell_type": "code",
      "source": [
        "#Creating the final datadrame for modelling\n",
        "final_dataframe=new_dataframe[['Subject_Hotness_Score','Total_Past_Communications','Time_Email_sent_Category','Word_Count','Total_Links','Total_Images','Email_Status']]"
      ],
      "metadata": {
        "id": "SL1parcT70-V"
      },
      "execution_count": 49,
      "outputs": []
    },
    {
      "cell_type": "code",
      "source": [
        "final_dataframe.head()"
      ],
      "metadata": {
        "colab": {
          "base_uri": "https://localhost:8080/",
          "height": 206
        },
        "id": "UwkNT_3U8R0B",
        "outputId": "b7ef950c-c471-4a2a-cdd9-9a4c89c45eb0"
      },
      "execution_count": 50,
      "outputs": [
        {
          "output_type": "execute_result",
          "data": {
            "text/plain": [
              "   Subject_Hotness_Score  Total_Past_Communications  Time_Email_sent_Category  \\\n",
              "0               1.107201                   0.341911                         1   \n",
              "1               1.006958                  -1.171435                         2   \n",
              "2              -0.997898                   0.594136                         2   \n",
              "3               1.909143                  -0.330687                         2   \n",
              "4              -1.098141                  -0.919211                         2   \n",
              "\n",
              "   Word_Count  Total_Links  Total_Images  Email_Status  \n",
              "0   -0.956618          8.0      -0.62349             0  \n",
              "1   -0.721081          5.0      -0.62349             0  \n",
              "2    0.964481          5.0      -0.62349             1  \n",
              "3   -0.330973         16.0      -0.62349             0  \n",
              "4    0.909277          4.0      -0.62349             0  "
            ],
            "text/html": [
              "\n",
              "  <div id=\"df-dd25db9b-bd7d-4677-be1f-ffef64658b6d\">\n",
              "    <div class=\"colab-df-container\">\n",
              "      <div>\n",
              "<style scoped>\n",
              "    .dataframe tbody tr th:only-of-type {\n",
              "        vertical-align: middle;\n",
              "    }\n",
              "\n",
              "    .dataframe tbody tr th {\n",
              "        vertical-align: top;\n",
              "    }\n",
              "\n",
              "    .dataframe thead th {\n",
              "        text-align: right;\n",
              "    }\n",
              "</style>\n",
              "<table border=\"1\" class=\"dataframe\">\n",
              "  <thead>\n",
              "    <tr style=\"text-align: right;\">\n",
              "      <th></th>\n",
              "      <th>Subject_Hotness_Score</th>\n",
              "      <th>Total_Past_Communications</th>\n",
              "      <th>Time_Email_sent_Category</th>\n",
              "      <th>Word_Count</th>\n",
              "      <th>Total_Links</th>\n",
              "      <th>Total_Images</th>\n",
              "      <th>Email_Status</th>\n",
              "    </tr>\n",
              "  </thead>\n",
              "  <tbody>\n",
              "    <tr>\n",
              "      <th>0</th>\n",
              "      <td>1.107201</td>\n",
              "      <td>0.341911</td>\n",
              "      <td>1</td>\n",
              "      <td>-0.956618</td>\n",
              "      <td>8.0</td>\n",
              "      <td>-0.62349</td>\n",
              "      <td>0</td>\n",
              "    </tr>\n",
              "    <tr>\n",
              "      <th>1</th>\n",
              "      <td>1.006958</td>\n",
              "      <td>-1.171435</td>\n",
              "      <td>2</td>\n",
              "      <td>-0.721081</td>\n",
              "      <td>5.0</td>\n",
              "      <td>-0.62349</td>\n",
              "      <td>0</td>\n",
              "    </tr>\n",
              "    <tr>\n",
              "      <th>2</th>\n",
              "      <td>-0.997898</td>\n",
              "      <td>0.594136</td>\n",
              "      <td>2</td>\n",
              "      <td>0.964481</td>\n",
              "      <td>5.0</td>\n",
              "      <td>-0.62349</td>\n",
              "      <td>1</td>\n",
              "    </tr>\n",
              "    <tr>\n",
              "      <th>3</th>\n",
              "      <td>1.909143</td>\n",
              "      <td>-0.330687</td>\n",
              "      <td>2</td>\n",
              "      <td>-0.330973</td>\n",
              "      <td>16.0</td>\n",
              "      <td>-0.62349</td>\n",
              "      <td>0</td>\n",
              "    </tr>\n",
              "    <tr>\n",
              "      <th>4</th>\n",
              "      <td>-1.098141</td>\n",
              "      <td>-0.919211</td>\n",
              "      <td>2</td>\n",
              "      <td>0.909277</td>\n",
              "      <td>4.0</td>\n",
              "      <td>-0.62349</td>\n",
              "      <td>0</td>\n",
              "    </tr>\n",
              "  </tbody>\n",
              "</table>\n",
              "</div>\n",
              "      <button class=\"colab-df-convert\" onclick=\"convertToInteractive('df-dd25db9b-bd7d-4677-be1f-ffef64658b6d')\"\n",
              "              title=\"Convert this dataframe to an interactive table.\"\n",
              "              style=\"display:none;\">\n",
              "        \n",
              "  <svg xmlns=\"http://www.w3.org/2000/svg\" height=\"24px\"viewBox=\"0 0 24 24\"\n",
              "       width=\"24px\">\n",
              "    <path d=\"M0 0h24v24H0V0z\" fill=\"none\"/>\n",
              "    <path d=\"M18.56 5.44l.94 2.06.94-2.06 2.06-.94-2.06-.94-.94-2.06-.94 2.06-2.06.94zm-11 1L8.5 8.5l.94-2.06 2.06-.94-2.06-.94L8.5 2.5l-.94 2.06-2.06.94zm10 10l.94 2.06.94-2.06 2.06-.94-2.06-.94-.94-2.06-.94 2.06-2.06.94z\"/><path d=\"M17.41 7.96l-1.37-1.37c-.4-.4-.92-.59-1.43-.59-.52 0-1.04.2-1.43.59L10.3 9.45l-7.72 7.72c-.78.78-.78 2.05 0 2.83L4 21.41c.39.39.9.59 1.41.59.51 0 1.02-.2 1.41-.59l7.78-7.78 2.81-2.81c.8-.78.8-2.07 0-2.86zM5.41 20L4 18.59l7.72-7.72 1.47 1.35L5.41 20z\"/>\n",
              "  </svg>\n",
              "      </button>\n",
              "      \n",
              "  <style>\n",
              "    .colab-df-container {\n",
              "      display:flex;\n",
              "      flex-wrap:wrap;\n",
              "      gap: 12px;\n",
              "    }\n",
              "\n",
              "    .colab-df-convert {\n",
              "      background-color: #E8F0FE;\n",
              "      border: none;\n",
              "      border-radius: 50%;\n",
              "      cursor: pointer;\n",
              "      display: none;\n",
              "      fill: #1967D2;\n",
              "      height: 32px;\n",
              "      padding: 0 0 0 0;\n",
              "      width: 32px;\n",
              "    }\n",
              "\n",
              "    .colab-df-convert:hover {\n",
              "      background-color: #E2EBFA;\n",
              "      box-shadow: 0px 1px 2px rgba(60, 64, 67, 0.3), 0px 1px 3px 1px rgba(60, 64, 67, 0.15);\n",
              "      fill: #174EA6;\n",
              "    }\n",
              "\n",
              "    [theme=dark] .colab-df-convert {\n",
              "      background-color: #3B4455;\n",
              "      fill: #D2E3FC;\n",
              "    }\n",
              "\n",
              "    [theme=dark] .colab-df-convert:hover {\n",
              "      background-color: #434B5C;\n",
              "      box-shadow: 0px 1px 3px 1px rgba(0, 0, 0, 0.15);\n",
              "      filter: drop-shadow(0px 1px 2px rgba(0, 0, 0, 0.3));\n",
              "      fill: #FFFFFF;\n",
              "    }\n",
              "  </style>\n",
              "\n",
              "      <script>\n",
              "        const buttonEl =\n",
              "          document.querySelector('#df-dd25db9b-bd7d-4677-be1f-ffef64658b6d button.colab-df-convert');\n",
              "        buttonEl.style.display =\n",
              "          google.colab.kernel.accessAllowed ? 'block' : 'none';\n",
              "\n",
              "        async function convertToInteractive(key) {\n",
              "          const element = document.querySelector('#df-dd25db9b-bd7d-4677-be1f-ffef64658b6d');\n",
              "          const dataTable =\n",
              "            await google.colab.kernel.invokeFunction('convertToInteractive',\n",
              "                                                     [key], {});\n",
              "          if (!dataTable) return;\n",
              "\n",
              "          const docLinkHtml = 'Like what you see? Visit the ' +\n",
              "            '<a target=\"_blank\" href=https://colab.research.google.com/notebooks/data_table.ipynb>data table notebook</a>'\n",
              "            + ' to learn more about interactive tables.';\n",
              "          element.innerHTML = '';\n",
              "          dataTable['output_type'] = 'display_data';\n",
              "          await google.colab.output.renderOutput(dataTable, element);\n",
              "          const docLink = document.createElement('div');\n",
              "          docLink.innerHTML = docLinkHtml;\n",
              "          element.appendChild(docLink);\n",
              "        }\n",
              "      </script>\n",
              "    </div>\n",
              "  </div>\n",
              "  "
            ]
          },
          "metadata": {},
          "execution_count": 50
        }
      ]
    },
    {
      "cell_type": "markdown",
      "source": [
        "###**Handling the imbalanced data**"
      ],
      "metadata": {
        "id": "7LwHWSEd8fK_"
      }
    },
    {
      "cell_type": "code",
      "source": [
        "from imblearn.over_sampling import SMOTE\n",
        "from collections import Counter\n",
        "\n",
        "smote = SMOTE()\n",
        "\n",
        "# fit predictor and target variable\n",
        "x_smote, y_smote = smote.fit_resample(final_dataframe.iloc[:,1:-1], final_dataframe['Email_Status'])\n",
        "\n",
        "print('Original dataset shape', len(final_dataframe))\n",
        "print('Resampled dataset shape', len(y_smote))"
      ],
      "metadata": {
        "colab": {
          "base_uri": "https://localhost:8080/"
        },
        "id": "ZfTsVANn8iG8",
        "outputId": "feac0c76-0362-4b10-b268-18584f7cf9dc"
      },
      "execution_count": 51,
      "outputs": [
        {
          "output_type": "stream",
          "name": "stdout",
          "text": [
            "Original dataset shape 68353\n",
            "Resampled dataset shape 164823\n"
          ]
        }
      ]
    },
    {
      "cell_type": "code",
      "source": [
        "plt.bar(Counter(final_dataframe['Email_Status']).keys(), Counter(final_dataframe['Email_Status']).values())\n",
        "plt.title(\"Before SMOTE\")"
      ],
      "metadata": {
        "colab": {
          "base_uri": "https://localhost:8080/",
          "height": 299
        },
        "id": "GqDHfF9Q86Jr",
        "outputId": "8c310d1c-e494-4a2d-d489-def1a6719aaa"
      },
      "execution_count": 52,
      "outputs": [
        {
          "output_type": "execute_result",
          "data": {
            "text/plain": [
              "Text(0.5, 1.0, 'Before SMOTE')"
            ]
          },
          "metadata": {},
          "execution_count": 52
        },
        {
          "output_type": "display_data",
          "data": {
            "text/plain": [
              "<Figure size 432x288 with 1 Axes>"
            ],
            "image/png": "[encoded data removed]"
          },
          "metadata": {
            "needs_background": "light"
          }
        }
      ]
    },
    {
      "cell_type": "code",
      "source": [
        "plt.bar(Counter(y_smote).keys(), Counter(y_smote).values())\n",
        "plt.title(\"After SMOTE\")"
      ],
      "metadata": {
        "colab": {
          "base_uri": "https://localhost:8080/",
          "height": 299
        },
        "id": "hzx22hYA9K5K",
        "outputId": "3f270be4-9780-42c4-f80b-d51ea9c71499"
      },
      "execution_count": 53,
      "outputs": [
        {
          "output_type": "execute_result",
          "data": {
            "text/plain": [
              "Text(0.5, 1.0, 'After SMOTE')"
            ]
          },
          "metadata": {},
          "execution_count": 53
        },
        {
          "output_type": "display_data",
          "data": {
            "text/plain": [
              "<Figure size 432x288 with 1 Axes>"
            ],
            "image/png": "[encoded data removed]"
          },
          "metadata": {
            "needs_background": "light"
          }
        }
      ]
    },
    {
      "cell_type": "markdown",
      "source": [
        "###Spliting the dataset into Train-Test"
      ],
      "metadata": {
        "id": "MsF42sDA9WTd"
      }
    },
    {
      "cell_type": "code",
      "source": [
        "from sklearn.model_selection import train_test_split\n",
        "#Split data into train and test\n",
        "X_train, X_test, y_train, y_test = train_test_split(x_smote, y_smote, test_size = 0.2, random_state = 3,stratify= y_smote)\n"
      ],
      "metadata": {
        "id": "UOWWeqWv9TDA"
      },
      "execution_count": 54,
      "outputs": []
    },
    {
      "cell_type": "markdown",
      "source": [
        "##**Model Building**"
      ],
      "metadata": {
        "id": "GLZ_BBki91q7"
      }
    },
    {
      "cell_type": "code",
      "source": [
        "from sklearn.tree import DecisionTreeClassifier\n",
        "from sklearn.ensemble import RandomForestClassifier\n",
        "from xgboost import XGBClassifier\n",
        "from sklearn.neighbors import KNeighborsClassifier"
      ],
      "metadata": {
        "id": "56xb2mwm-Ej5"
      },
      "execution_count": 55,
      "outputs": []
    },
    {
      "cell_type": "code",
      "source": [
        "from sklearn.metrics import accuracy_score, confusion_matrix, precision_score, roc_auc_score, f1_score, recall_score,roc_curve,auc\n",
        "from sklearn.model_selection import train_test_split\n",
        "from sklearn.model_selection import GridSearchCV\n",
        "from sklearn.model_selection import RandomizedSearchCV\n",
        "# To supress the warning messages generated\n",
        "import warnings\n",
        "warnings.filterwarnings('ignore')"
      ],
      "metadata": {
        "id": "-2EBZs32-H4m"
      },
      "execution_count": 56,
      "outputs": []
    },
    {
      "cell_type": "code",
      "source": [
        "#Creating dataframe for storing model evaluated metrics.\n",
        "column_name=['MODEL_NAME','F1_SCORE_Train','PRECISION_Train','RECALL__Train','ACCURACY_Train','ROC_AUC_Train','F1_SCORE_Test','PRECISION_Test','RECALL__Test','ACCURACY_Test','ROC_AUC_Test']\n",
        "All_model_Performance=pd.DataFrame(columns=column_name)"
      ],
      "metadata": {
        "id": "PU0cA8L-BPlT"
      },
      "execution_count": 57,
      "outputs": []
    },
    {
      "cell_type": "code",
      "source": [
        "def evaluate(model,X_train,y_train,X_test,y_test,model_name):\n",
        "  '''Function for evaluating all the models'''\n",
        "  global column_name\n",
        "  # Making predictions on train and test data\n",
        "\n",
        "  train_class_preds = model.predict(X_train)\n",
        "  test_class_preds = model.predict(X_test)\n",
        "\n",
        "  # To get the probabilities on train and test\n",
        "  train_preds = model.predict_proba(X_train)\n",
        "  test_preds = model.predict_proba(X_test)\n",
        "\n",
        "  # To Calculating accuracy on train and test\n",
        "  train_accuracy = accuracy_score(y_train,train_class_preds)\n",
        "  test_accuracy = accuracy_score(y_test,test_class_preds)\n",
        "\n",
        "  # To get the confusion matrices for train and test\n",
        "  train_cm = confusion_matrix(y_train,train_class_preds)\n",
        "  test_cm = confusion_matrix(y_test,test_class_preds )\n",
        "\n",
        "  # To get the Recall for train and test\n",
        "  train_recall = recall_score(y_train, train_class_preds, average='weighted')\n",
        "  test_recall = recall_score(y_test, test_class_preds, average='weighted')\n",
        "\n",
        "  # To get the precision for train and test\n",
        "  train_precision = precision_score(y_train, train_class_preds, average='weighted')\n",
        "  test_precision = precision_score(y_test, test_class_preds, average='weighted')\n",
        "\n",
        "  # To get the f1 Score for train and test\n",
        "  train_f1score = f1_score(y_train, train_class_preds, average='weighted')\n",
        "  test_f1score = f1_score(y_test, test_class_preds, average='weighted')\n",
        "\n",
        "  # to get the roc_auc score for train and test dataset\n",
        "  train_auc = roc_auc_score(y_train,train_preds,multi_class = 'ovr')\n",
        "  test_auc = roc_auc_score(y_test,test_preds,multi_class = 'ovr')\n",
        "\n",
        "  list_score=[model_name,train_f1score,train_precision,train_recall,train_accuracy,train_auc,test_f1score,test_precision,test_recall,test_accuracy,test_auc]\n",
        "  xyz = {column_name[i]: list_score[i] for i in range(len(column_name))}\n",
        "  \n",
        "\n",
        "  print(\"----- Evaluation on train data -----\\n\")\n",
        "  print(\"Confusion matrix \\n\")\n",
        "  print(train_cm)\n",
        "  print(\"\\n Accuracy = \",train_accuracy)\n",
        "  print(\"\\n Recall = \",train_recall)\n",
        "  print(\"\\n Precision = \",train_precision)\n",
        "  print(\"\\n F1 score = \",train_f1score)\n",
        "  print(\"\\n Roc_Auc score = \",train_auc)\n",
        "\n",
        "  print(\"\\n\\n----- Evaluation on test data -----\\n\")\n",
        "  print(\"Confusion matrix \\n\")\n",
        "  print(test_cm)\n",
        "  print(\"\\n Accuracy = \",test_accuracy)\n",
        "  print(\"\\n Recall = \",test_recall)\n",
        "  print(\"\\n Precision = \",test_precision)\n",
        "  print(\"\\n F1 score = \",test_f1score)\n",
        "  print(\"\\n Roc_Auc score = \",test_auc)\n",
        "\n",
        "  fpr = {}\n",
        "  tpr = {}\n",
        "  thresh ={}\n",
        "  n_class=3\n",
        "  for i in range(n_class):    \n",
        "      fpr[i], tpr[i], thresh[i] = roc_curve(y_test, test_preds[:,i], pos_label=i)\n",
        "  plt.plot(fpr[0], tpr[0], linestyle='--',color='Green', label='Class 0 vs Rest')\n",
        "  plt.plot(fpr[1], tpr[1], linestyle='--',color='Red', label='Class 1 vs Rest')\n",
        "  plt.plot(fpr[2], tpr[2], linestyle='--',color='Blue', label='Class 2 vs Rest')\n",
        "  plt.title('Multiclass ROC curve')\n",
        "  plt.xlabel('False Positive Rate')\n",
        "  plt.ylabel('True Positive rate')\n",
        "  plt.legend()\n",
        "  return xyz"
      ],
      "metadata": {
        "id": "FO5AKqNPBUSR"
      },
      "execution_count": 58,
      "outputs": []
    },
    {
      "cell_type": "code",
      "source": [
        "final_list=[]"
      ],
      "metadata": {
        "id": "oOkrw32wEEyb"
      },
      "execution_count": 59,
      "outputs": []
    },
    {
      "cell_type": "markdown",
      "source": [
        "###**Decision Tree Model**"
      ],
      "metadata": {
        "id": "Kbw0Vw6ZEjp5"
      }
    },
    {
      "cell_type": "code",
      "source": [
        "# Initializing the DecisionTreeClassifier\n",
        "dt_classifier = DecisionTreeClassifier()"
      ],
      "metadata": {
        "id": "f8Nomf4JEqII"
      },
      "execution_count": 60,
      "outputs": []
    },
    {
      "cell_type": "code",
      "source": [
        "# Fitting onto the train set\n",
        "dt_classifier.fit(X_train,y_train)"
      ],
      "metadata": {
        "colab": {
          "base_uri": "https://localhost:8080/"
        },
        "id": "M8BTobUWEs00",
        "outputId": "6c5d3153-8a24-452b-f3e9-9319a6465f1a"
      },
      "execution_count": 61,
      "outputs": [
        {
          "output_type": "execute_result",
          "data": {
            "text/plain": [
              "DecisionTreeClassifier()"
            ]
          },
          "metadata": {},
          "execution_count": 61
        }
      ]
    },
    {
      "cell_type": "code",
      "source": [
        "# Evaluation of our decision tree model\n",
        "xyz=evaluate(dt_classifier,X_train,y_train,X_test,y_test,'Decision_Tree')\n",
        "final_list.append(xyz)"
      ],
      "metadata": {
        "colab": {
          "base_uri": "https://localhost:8080/",
          "height": 959
        },
        "id": "yizQoEU6EIsD",
        "outputId": "0ddbc199-7767-427a-ae7a-d80eb191eccb"
      },
      "execution_count": 62,
      "outputs": [
        {
          "output_type": "stream",
          "name": "stdout",
          "text": [
            "----- Evaluation on train data -----\n",
            "\n",
            "Confusion matrix \n",
            "\n",
            "[[43732   199    22]\n",
            " [ 1131 42744    78]\n",
            " [  227   138 43587]]\n",
            "\n",
            " Accuracy =  0.9863868707245673\n",
            "\n",
            " Recall =  0.9863868707245673\n",
            "\n",
            " Precision =  0.9865902399626082\n",
            "\n",
            " F1 score =  0.9863992586273668\n",
            "\n",
            " Roc_Auc score =  0.9997619912107357\n",
            "\n",
            "\n",
            "----- Evaluation on test data -----\n",
            "\n",
            "Confusion matrix \n",
            "\n",
            "[[8797 1760  431]\n",
            " [1696 7331 1961]\n",
            " [ 442 1889 8658]]\n",
            "\n",
            " Accuracy =  0.7518883664492644\n",
            "\n",
            " Recall =  0.7518883664492644\n",
            "\n",
            " Precision =  0.7518939344174743\n",
            "\n",
            " F1 score =  0.7518875509746202\n",
            "\n",
            " Roc_Auc score =  0.8166101449654396\n"
          ]
        },
        {
          "output_type": "display_data",
          "data": {
            "text/plain": [
              "<Figure size 432x288 with 1 Axes>"
            ],
            "image/png": "[encoded data removed]"
          },
          "metadata": {
            "needs_background": "light"
          }
        }
      ]
    },
    {
      "cell_type": "markdown",
      "source": [
        "We can observe that model is overfitting since it's performing really well on training set but not that good on unseen data."
      ],
      "metadata": {
        "id": "KJJ7Wxq4GQ95"
      }
    },
    {
      "cell_type": "markdown",
      "source": [
        "###**XGBoost**"
      ],
      "metadata": {
        "id": "MGAvrO-oGY18"
      }
    },
    {
      "cell_type": "code",
      "source": [
        "xgb_model = XGBClassifier(n_estimators=100,max_depth=12,min_samples_leaf=20,min_samples_split=30)"
      ],
      "metadata": {
        "id": "4n3FYwG6HWCK"
      },
      "execution_count": 63,
      "outputs": []
    },
    {
      "cell_type": "code",
      "source": [
        "# Fit the model\n",
        "xgb_model.fit(X_train,y_train)"
      ],
      "metadata": {
        "colab": {
          "base_uri": "https://localhost:8080/"
        },
        "id": "nW9qJ2wtHbCb",
        "outputId": "92d50f75-10a3-471c-dcbb-5b316a872582"
      },
      "execution_count": 64,
      "outputs": [
        {
          "output_type": "execute_result",
          "data": {
            "text/plain": [
              "XGBClassifier(max_depth=12, min_samples_leaf=20, min_samples_split=30,\n",
              "              objective='multi:softprob')"
            ]
          },
          "metadata": {},
          "execution_count": 64
        }
      ]
    },
    {
      "cell_type": "code",
      "source": [
        "# Evaluate the results\n",
        "xyz=evaluate(xgb_model,X_train,y_train,X_test,y_test,'XGBoost')\n",
        "final_list.append(xyz)"
      ],
      "metadata": {
        "colab": {
          "base_uri": "https://localhost:8080/",
          "height": 959
        },
        "id": "0VVY2a4SIRXB",
        "outputId": "5dfcdd87-a316-4633-b700-f177bb96f2aa"
      },
      "execution_count": 65,
      "outputs": [
        {
          "output_type": "stream",
          "name": "stdout",
          "text": [
            "----- Evaluation on train data -----\n",
            "\n",
            "Confusion matrix \n",
            "\n",
            "[[41528  2055   370]\n",
            " [ 6284 31829  5840]\n",
            " [ 1494  1823 40635]]\n",
            "\n",
            " Accuracy =  0.8645057561922674\n",
            "\n",
            " Recall =  0.8645057561922674\n",
            "\n",
            " Precision =  0.8670264765333119\n",
            "\n",
            " F1 score =  0.8615963796984264\n",
            "\n",
            " Roc_Auc score =  0.9658889437707406\n",
            "\n",
            "\n",
            "----- Evaluation on test data -----\n",
            "\n",
            "Confusion matrix \n",
            "\n",
            "[[9978  844  166]\n",
            " [1860 6664 2464]\n",
            " [ 449 1121 9419]]\n",
            "\n",
            " Accuracy =  0.7905657515546792\n",
            "\n",
            " Recall =  0.7905657515546792\n",
            "\n",
            " Precision =  0.7886937728501991\n",
            "\n",
            " F1 score =  0.7848356193155014\n",
            "\n",
            " Roc_Auc score =  0.9211997317909372\n"
          ]
        },
        {
          "output_type": "display_data",
          "data": {
            "text/plain": [
              "<Figure size 432x288 with 1 Axes>"
            ],
            "image/png": "[encoded data removed]"
          },
          "metadata": {
            "needs_background": "light"
          }
        }
      ]
    },
    {
      "cell_type": "markdown",
      "source": [
        "##**KNN Classifier**"
      ],
      "metadata": {
        "id": "Y31VLxY2IrHM"
      }
    },
    {
      "cell_type": "code",
      "source": [
        "from sklearn.neighbors import KNeighborsClassifier\n",
        "classifier_knn = KNeighborsClassifier(n_neighbors = 5, metric = 'minkowski', p = 2)"
      ],
      "metadata": {
        "id": "yj5tryMkIqt9"
      },
      "execution_count": 66,
      "outputs": []
    },
    {
      "cell_type": "code",
      "source": [
        "# Fit the model on the train set\n",
        "classifier_knn.fit(X_train,y_train)"
      ],
      "metadata": {
        "colab": {
          "base_uri": "https://localhost:8080/"
        },
        "id": "gJULTTp3Iz8r",
        "outputId": "9d9bd78d-758a-4a5a-807c-152bcf89882e"
      },
      "execution_count": 67,
      "outputs": [
        {
          "output_type": "execute_result",
          "data": {
            "text/plain": [
              "KNeighborsClassifier()"
            ]
          },
          "metadata": {},
          "execution_count": 67
        }
      ]
    },
    {
      "cell_type": "code",
      "source": [
        "# Evaluate the model\n",
        "xyz=evaluate(classifier_knn,X_train,y_train,X_test,y_test,'KNN')\n",
        "final_list.append(xyz)"
      ],
      "metadata": {
        "colab": {
          "base_uri": "https://localhost:8080/",
          "height": 959
        },
        "id": "HORb84uaI3ge",
        "outputId": "8e4026c9-aa1d-43cd-b534-f03860aea9e4"
      },
      "execution_count": 68,
      "outputs": [
        {
          "output_type": "stream",
          "name": "stdout",
          "text": [
            "----- Evaluation on train data -----\n",
            "\n",
            "Confusion matrix \n",
            "\n",
            "[[31572  8361  4020]\n",
            " [ 3604 37776  2573]\n",
            " [ 1772  2481 39699]]\n",
            "\n",
            " Accuracy =  0.8270032914195574\n",
            "\n",
            " Recall =  0.8270032914195574\n",
            "\n",
            " Precision =  0.8296905789055516\n",
            "\n",
            " F1 score =  0.8254916422811741\n",
            "\n",
            " Roc_Auc score =  0.9568484989915822\n",
            "\n",
            "\n",
            "----- Evaluation on test data -----\n",
            "\n",
            "Confusion matrix \n",
            "\n",
            "[[6686 2869 1433]\n",
            " [1517 8434 1037]\n",
            " [ 670 1023 9296]]\n",
            "\n",
            " Accuracy =  0.740664340967693\n",
            "\n",
            " Recall =  0.740664340967693\n",
            "\n",
            " Precision =  0.7426146725119058\n",
            "\n",
            " F1 score =  0.7379504853300493\n",
            "\n",
            " Roc_Auc score =  0.8838095158297653\n"
          ]
        },
        {
          "output_type": "display_data",
          "data": {
            "text/plain": [
              "<Figure size 432x288 with 1 Axes>"
            ],
            "image/png": "[encoded data removed]"
          },
          "metadata": {
            "needs_background": "light"
          }
        }
      ]
    },
    {
      "cell_type": "code",
      "source": [
        "# In case of classifier like knn the parameter is to be tuned\n",
        "param_grid = {'n_neighbors':np.arange(1,5)}"
      ],
      "metadata": {
        "id": "rfTnUlm_JYIo"
      },
      "execution_count": 69,
      "outputs": []
    },
    {
      "cell_type": "code",
      "source": [
        "# Performing RandomSearch\n",
        "knn = KNeighborsClassifier()\n",
        "knn_cv= RandomizedSearchCV(knn,param_grid,cv=5)\n",
        "knn_cv.fit(X_train,y_train)"
      ],
      "metadata": {
        "colab": {
          "base_uri": "https://localhost:8080/"
        },
        "id": "euq4kKlYJeR0",
        "outputId": "d735884f-3f09-4e7a-ff19-bb643449bf8d"
      },
      "execution_count": 70,
      "outputs": [
        {
          "output_type": "execute_result",
          "data": {
            "text/plain": [
              "RandomizedSearchCV(cv=5, estimator=KNeighborsClassifier(),\n",
              "                   param_distributions={'n_neighbors': array([1, 2, 3, 4])})"
            ]
          },
          "metadata": {},
          "execution_count": 70
        }
      ]
    },
    {
      "cell_type": "code",
      "source": [
        "# Evaluate results\n",
        "xyz=evaluate(knn_cv,X_train,y_train,X_test,y_test,'Hyper_Tuned_KNN')\n",
        "final_list.append(xyz)"
      ],
      "metadata": {
        "colab": {
          "base_uri": "https://localhost:8080/",
          "height": 959
        },
        "id": "yFQWhrwYJo0U",
        "outputId": "f3f76290-5a80-449d-ecb9-84e76fcf2713"
      },
      "execution_count": 71,
      "outputs": [
        {
          "output_type": "stream",
          "name": "stdout",
          "text": [
            "----- Evaluation on train data -----\n",
            "\n",
            "Confusion matrix \n",
            "\n",
            "[[43034   764   155]\n",
            " [  770 43052   131]\n",
            " [  138   136 43678]]\n",
            "\n",
            " Accuracy =  0.9841192798313337\n",
            "\n",
            " Recall =  0.9841192798313337\n",
            "\n",
            " Precision =  0.9841179927449555\n",
            "\n",
            " F1 score =  0.9841186249630408\n",
            "\n",
            " Roc_Auc score =  0.9880894875666332\n",
            "\n",
            "\n",
            "----- Evaluation on test data -----\n",
            "\n",
            "Confusion matrix \n",
            "\n",
            "[[7599 2308 1081]\n",
            " [1652 8494  842]\n",
            " [ 679  792 9518]]\n",
            "\n",
            " Accuracy =  0.7769149097527681\n",
            "\n",
            " Recall =  0.7769149097527681\n",
            "\n",
            " Precision =  0.7766008132207286\n",
            "\n",
            " F1 score =  0.7758410998396835\n",
            "\n",
            " Roc_Auc score =  0.8326850112566656\n"
          ]
        },
        {
          "output_type": "display_data",
          "data": {
            "text/plain": [
              "<Figure size 432x288 with 1 Axes>"
            ],
            "image/png": "[encoded data removed]"
          },
          "metadata": {
            "needs_background": "light"
          }
        }
      ]
    },
    {
      "cell_type": "markdown",
      "source": [
        "##**Random Forest**"
      ],
      "metadata": {
        "id": "ZvOkXPibJ87T"
      }
    },
    {
      "cell_type": "code",
      "source": [
        "from sklearn.ensemble import RandomForestClassifier\n",
        "# Fitting Random Forest Classification to the Training set\n",
        "classifier_rf = RandomForestClassifier(n_estimators = 10, criterion = 'entropy', random_state = 35)\n",
        "classifier_rf.fit(X_train,y_train)"
      ],
      "metadata": {
        "colab": {
          "base_uri": "https://localhost:8080/"
        },
        "id": "Jpj3UrVMKAL4",
        "outputId": "0c0d3a71-f366-4424-c7f6-e2e24001f48c"
      },
      "execution_count": 72,
      "outputs": [
        {
          "output_type": "execute_result",
          "data": {
            "text/plain": [
              "RandomForestClassifier(criterion='entropy', n_estimators=10, random_state=35)"
            ]
          },
          "metadata": {},
          "execution_count": 72
        }
      ]
    },
    {
      "cell_type": "code",
      "source": [
        "# Evaluate results\n",
        "xyz=evaluate(classifier_rf,X_train,y_train,X_test,y_test,'Random_Forest')\n",
        "final_list.append(xyz)"
      ],
      "metadata": {
        "colab": {
          "base_uri": "https://localhost:8080/",
          "height": 959
        },
        "id": "6xnWitbTKLZ0",
        "outputId": "cc7c6631-b334-48b4-f342-f23b754a9b42"
      },
      "execution_count": 73,
      "outputs": [
        {
          "output_type": "stream",
          "name": "stdout",
          "text": [
            "----- Evaluation on train data -----\n",
            "\n",
            "Confusion matrix \n",
            "\n",
            "[[43107   718   128]\n",
            " [ 1216 42467   270]\n",
            " [  245   414 43293]]\n",
            "\n",
            " Accuracy =  0.9773165071516328\n",
            "\n",
            " Recall =  0.9773165071516328\n",
            "\n",
            " Precision =  0.9773816663427123\n",
            "\n",
            " F1 score =  0.977325208810735\n",
            "\n",
            " Roc_Auc score =  0.9984351808333835\n",
            "\n",
            "\n",
            "----- Evaluation on test data -----\n",
            "\n",
            "Confusion matrix \n",
            "\n",
            "[[9274 1354  360]\n",
            " [1799 7878 1311]\n",
            " [ 515 1273 9201]]\n",
            "\n",
            " Accuracy =  0.7994236311239193\n",
            "\n",
            " Recall =  0.7994236311239193\n",
            "\n",
            " Precision =  0.7988486728591798\n",
            "\n",
            " F1 score =  0.7988110849732681\n",
            "\n",
            " Roc_Auc score =  0.9198880688858754\n"
          ]
        },
        {
          "output_type": "display_data",
          "data": {
            "text/plain": [
              "<Figure size 432x288 with 1 Axes>"
            ],
            "image/png": "[encoded data removed]"
          },
          "metadata": {
            "needs_background": "light"
          }
        }
      ]
    },
    {
      "cell_type": "markdown",
      "source": [
        "##**Logistic Regression**"
      ],
      "metadata": {
        "id": "fdKluNdpKfh6"
      }
    },
    {
      "cell_type": "code",
      "source": [
        "from sklearn.linear_model import LogisticRegression\n",
        "log_reg = LogisticRegression()\n",
        "\n",
        "# Fit on the train set\n",
        "log_reg.fit(X_train,y_train)"
      ],
      "metadata": {
        "colab": {
          "base_uri": "https://localhost:8080/"
        },
        "id": "C22ba7_8Ke2l",
        "outputId": "5f09d078-79b7-4dd6-b4ad-ca4e3923ffba"
      },
      "execution_count": 74,
      "outputs": [
        {
          "output_type": "execute_result",
          "data": {
            "text/plain": [
              "LogisticRegression()"
            ]
          },
          "metadata": {},
          "execution_count": 74
        }
      ]
    },
    {
      "cell_type": "code",
      "source": [
        "# Evaluate the results\n",
        "xyz=evaluate(log_reg,X_train,y_train,X_test,y_test,'Logistic_Regression')\n",
        "final_list.append(xyz)"
      ],
      "metadata": {
        "colab": {
          "base_uri": "https://localhost:8080/",
          "height": 959
        },
        "id": "_gNLlA0fK7Eu",
        "outputId": "274743d2-cd03-4f65-fc4a-f2f766ef7da2"
      },
      "execution_count": 75,
      "outputs": [
        {
          "output_type": "stream",
          "name": "stdout",
          "text": [
            "----- Evaluation on train data -----\n",
            "\n",
            "Confusion matrix \n",
            "\n",
            "[[27379  8563  8011]\n",
            " [14718 12733 16502]\n",
            " [12885  8501 22566]]\n",
            "\n",
            " Accuracy =  0.47534468898360355\n",
            "\n",
            " Recall =  0.47534468898360355\n",
            "\n",
            " Precision =  0.4682032019684714\n",
            "\n",
            " F1 score =  0.46485421467891075\n",
            "\n",
            " Roc_Auc score =  0.6512011868726763\n",
            "\n",
            "\n",
            "----- Evaluation on test data -----\n",
            "\n",
            "Confusion matrix \n",
            "\n",
            "[[6894 2057 2037]\n",
            " [3761 3141 4086]\n",
            " [3272 2077 5640]]\n",
            "\n",
            " Accuracy =  0.4755043227665706\n",
            "\n",
            " Recall =  0.4755043227665706\n",
            "\n",
            " Precision =  0.46874425663026276\n",
            "\n",
            " F1 score =  0.4643863895235719\n",
            "\n",
            " Roc_Auc score =  0.6500491443180973\n"
          ]
        },
        {
          "output_type": "display_data",
          "data": {
            "text/plain": [
              "<Figure size 432x288 with 1 Axes>"
            ],
            "image/png": "[encoded data removed]"
          },
          "metadata": {
            "needs_background": "light"
          }
        }
      ]
    },
    {
      "cell_type": "code",
      "source": [
        "All_model_Performance=pd.DataFrame(final_list)"
      ],
      "metadata": {
        "id": "yEMJyHp_LK_c"
      },
      "execution_count": 76,
      "outputs": []
    },
    {
      "cell_type": "code",
      "source": [
        "All_model_Performance"
      ],
      "metadata": {
        "colab": {
          "base_uri": "https://localhost:8080/",
          "height": 237
        },
        "id": "qfrSXWRDLNof",
        "outputId": "cd6ce1b0-4503-4810-a5f2-b16a7b6d1f71"
      },
      "execution_count": 77,
      "outputs": [
        {
          "output_type": "execute_result",
          "data": {
            "text/plain": [
              "            MODEL_NAME  F1_SCORE_Train  PRECISION_Train  RECALL__Train  \\\n",
              "0        Decision_Tree        0.986399         0.986590       0.986387   \n",
              "1              XGBoost        0.861596         0.867026       0.864506   \n",
              "2                  KNN        0.825492         0.829691       0.827003   \n",
              "3      Hyper_Tuned_KNN        0.984119         0.984118       0.984119   \n",
              "4        Random_Forest        0.977325         0.977382       0.977317   \n",
              "5  Logistic_Regression        0.464854         0.468203       0.475345   \n",
              "\n",
              "   ACCURACY_Train  ROC_AUC_Train  F1_SCORE_Test  PRECISION_Test  RECALL__Test  \\\n",
              "0        0.986387       0.999762       0.751888        0.751894      0.751888   \n",
              "1        0.864506       0.965889       0.784836        0.788694      0.790566   \n",
              "2        0.827003       0.956848       0.737950        0.742615      0.740664   \n",
              "3        0.984119       0.988089       0.775841        0.776601      0.776915   \n",
              "4        0.977317       0.998435       0.798811        0.798849      0.799424   \n",
              "5        0.475345       0.651201       0.464386        0.468744      0.475504   \n",
              "\n",
              "   ACCURACY_Test  ROC_AUC_Test  \n",
              "0       0.751888      0.816610  \n",
              "1       0.790566      0.921200  \n",
              "2       0.740664      0.883810  \n",
              "3       0.776915      0.832685  \n",
              "4       0.799424      0.919888  \n",
              "5       0.475504      0.650049  "
            ],
            "text/html": [
              "\n",
              "  <div id=\"df-fc7322d8-51b8-495f-aca3-151fe9183276\">\n",
              "    <div class=\"colab-df-container\">\n",
              "      <div>\n",
              "<style scoped>\n",
              "    .dataframe tbody tr th:only-of-type {\n",
              "        vertical-align: middle;\n",
              "    }\n",
              "\n",
              "    .dataframe tbody tr th {\n",
              "        vertical-align: top;\n",
              "    }\n",
              "\n",
              "    .dataframe thead th {\n",
              "        text-align: right;\n",
              "    }\n",
              "</style>\n",
              "<table border=\"1\" class=\"dataframe\">\n",
              "  <thead>\n",
              "    <tr style=\"text-align: right;\">\n",
              "      <th></th>\n",
              "      <th>MODEL_NAME</th>\n",
              "      <th>F1_SCORE_Train</th>\n",
              "      <th>PRECISION_Train</th>\n",
              "      <th>RECALL__Train</th>\n",
              "      <th>ACCURACY_Train</th>\n",
              "      <th>ROC_AUC_Train</th>\n",
              "      <th>F1_SCORE_Test</th>\n",
              "      <th>PRECISION_Test</th>\n",
              "      <th>RECALL__Test</th>\n",
              "      <th>ACCURACY_Test</th>\n",
              "      <th>ROC_AUC_Test</th>\n",
              "    </tr>\n",
              "  </thead>\n",
              "  <tbody>\n",
              "    <tr>\n",
              "      <th>0</th>\n",
              "      <td>Decision_Tree</td>\n",
              "      <td>0.986399</td>\n",
              "      <td>0.986590</td>\n",
              "      <td>0.986387</td>\n",
              "      <td>0.986387</td>\n",
              "      <td>0.999762</td>\n",
              "      <td>0.751888</td>\n",
              "      <td>0.751894</td>\n",
              "      <td>0.751888</td>\n",
              "      <td>0.751888</td>\n",
              "      <td>0.816610</td>\n",
              "    </tr>\n",
              "    <tr>\n",
              "      <th>1</th>\n",
              "      <td>XGBoost</td>\n",
              "      <td>0.861596</td>\n",
              "      <td>0.867026</td>\n",
              "      <td>0.864506</td>\n",
              "      <td>0.864506</td>\n",
              "      <td>0.965889</td>\n",
              "      <td>0.784836</td>\n",
              "      <td>0.788694</td>\n",
              "      <td>0.790566</td>\n",
              "      <td>0.790566</td>\n",
              "      <td>0.921200</td>\n",
              "    </tr>\n",
              "    <tr>\n",
              "      <th>2</th>\n",
              "      <td>KNN</td>\n",
              "      <td>0.825492</td>\n",
              "      <td>0.829691</td>\n",
              "      <td>0.827003</td>\n",
              "      <td>0.827003</td>\n",
              "      <td>0.956848</td>\n",
              "      <td>0.737950</td>\n",
              "      <td>0.742615</td>\n",
              "      <td>0.740664</td>\n",
              "      <td>0.740664</td>\n",
              "      <td>0.883810</td>\n",
              "    </tr>\n",
              "    <tr>\n",
              "      <th>3</th>\n",
              "      <td>Hyper_Tuned_KNN</td>\n",
              "      <td>0.984119</td>\n",
              "      <td>0.984118</td>\n",
              "      <td>0.984119</td>\n",
              "      <td>0.984119</td>\n",
              "      <td>0.988089</td>\n",
              "      <td>0.775841</td>\n",
              "      <td>0.776601</td>\n",
              "      <td>0.776915</td>\n",
              "      <td>0.776915</td>\n",
              "      <td>0.832685</td>\n",
              "    </tr>\n",
              "    <tr>\n",
              "      <th>4</th>\n",
              "      <td>Random_Forest</td>\n",
              "      <td>0.977325</td>\n",
              "      <td>0.977382</td>\n",
              "      <td>0.977317</td>\n",
              "      <td>0.977317</td>\n",
              "      <td>0.998435</td>\n",
              "      <td>0.798811</td>\n",
              "      <td>0.798849</td>\n",
              "      <td>0.799424</td>\n",
              "      <td>0.799424</td>\n",
              "      <td>0.919888</td>\n",
              "    </tr>\n",
              "    <tr>\n",
              "      <th>5</th>\n",
              "      <td>Logistic_Regression</td>\n",
              "      <td>0.464854</td>\n",
              "      <td>0.468203</td>\n",
              "      <td>0.475345</td>\n",
              "      <td>0.475345</td>\n",
              "      <td>0.651201</td>\n",
              "      <td>0.464386</td>\n",
              "      <td>0.468744</td>\n",
              "      <td>0.475504</td>\n",
              "      <td>0.475504</td>\n",
              "      <td>0.650049</td>\n",
              "    </tr>\n",
              "  </tbody>\n",
              "</table>\n",
              "</div>\n",
              "      <button class=\"colab-df-convert\" onclick=\"convertToInteractive('df-fc7322d8-51b8-495f-aca3-151fe9183276')\"\n",
              "              title=\"Convert this dataframe to an interactive table.\"\n",
              "              style=\"display:none;\">\n",
              "        \n",
              "  <svg xmlns=\"http://www.w3.org/2000/svg\" height=\"24px\"viewBox=\"0 0 24 24\"\n",
              "       width=\"24px\">\n",
              "    <path d=\"M0 0h24v24H0V0z\" fill=\"none\"/>\n",
              "    <path d=\"M18.56 5.44l.94 2.06.94-2.06 2.06-.94-2.06-.94-.94-2.06-.94 2.06-2.06.94zm-11 1L8.5 8.5l.94-2.06 2.06-.94-2.06-.94L8.5 2.5l-.94 2.06-2.06.94zm10 10l.94 2.06.94-2.06 2.06-.94-2.06-.94-.94-2.06-.94 2.06-2.06.94z\"/><path d=\"M17.41 7.96l-1.37-1.37c-.4-.4-.92-.59-1.43-.59-.52 0-1.04.2-1.43.59L10.3 9.45l-7.72 7.72c-.78.78-.78 2.05 0 2.83L4 21.41c.39.39.9.59 1.41.59.51 0 1.02-.2 1.41-.59l7.78-7.78 2.81-2.81c.8-.78.8-2.07 0-2.86zM5.41 20L4 18.59l7.72-7.72 1.47 1.35L5.41 20z\"/>\n",
              "  </svg>\n",
              "      </button>\n",
              "      \n",
              "  <style>\n",
              "    .colab-df-container {\n",
              "      display:flex;\n",
              "      flex-wrap:wrap;\n",
              "      gap: 12px;\n",
              "    }\n",
              "\n",
              "    .colab-df-convert {\n",
              "      background-color: #E8F0FE;\n",
              "      border: none;\n",
              "      border-radius: 50%;\n",
              "      cursor: pointer;\n",
              "      display: none;\n",
              "      fill: #1967D2;\n",
              "      height: 32px;\n",
              "      padding: 0 0 0 0;\n",
              "      width: 32px;\n",
              "    }\n",
              "\n",
              "    .colab-df-convert:hover {\n",
              "      background-color: #E2EBFA;\n",
              "      box-shadow: 0px 1px 2px rgba(60, 64, 67, 0.3), 0px 1px 3px 1px rgba(60, 64, 67, 0.15);\n",
              "      fill: #174EA6;\n",
              "    }\n",
              "\n",
              "    [theme=dark] .colab-df-convert {\n",
              "      background-color: #3B4455;\n",
              "      fill: #D2E3FC;\n",
              "    }\n",
              "\n",
              "    [theme=dark] .colab-df-convert:hover {\n",
              "      background-color: #434B5C;\n",
              "      box-shadow: 0px 1px 3px 1px rgba(0, 0, 0, 0.15);\n",
              "      filter: drop-shadow(0px 1px 2px rgba(0, 0, 0, 0.3));\n",
              "      fill: #FFFFFF;\n",
              "    }\n",
              "  </style>\n",
              "\n",
              "      <script>\n",
              "        const buttonEl =\n",
              "          document.querySelector('#df-fc7322d8-51b8-495f-aca3-151fe9183276 button.colab-df-convert');\n",
              "        buttonEl.style.display =\n",
              "          google.colab.kernel.accessAllowed ? 'block' : 'none';\n",
              "\n",
              "        async function convertToInteractive(key) {\n",
              "          const element = document.querySelector('#df-fc7322d8-51b8-495f-aca3-151fe9183276');\n",
              "          const dataTable =\n",
              "            await google.colab.kernel.invokeFunction('convertToInteractive',\n",
              "                                                     [key], {});\n",
              "          if (!dataTable) return;\n",
              "\n",
              "          const docLinkHtml = 'Like what you see? Visit the ' +\n",
              "            '<a target=\"_blank\" href=https://colab.research.google.com/notebooks/data_table.ipynb>data table notebook</a>'\n",
              "            + ' to learn more about interactive tables.';\n",
              "          element.innerHTML = '';\n",
              "          dataTable['output_type'] = 'display_data';\n",
              "          await google.colab.output.renderOutput(dataTable, element);\n",
              "          const docLink = document.createElement('div');\n",
              "          docLink.innerHTML = docLinkHtml;\n",
              "          element.appendChild(docLink);\n",
              "        }\n",
              "      </script>\n",
              "    </div>\n",
              "  </div>\n",
              "  "
            ]
          },
          "metadata": {},
          "execution_count": 77
        }
      ]
    },
    {
      "cell_type": "markdown",
      "source": [
        "##**Conclusion**:\n",
        "\n",
        "1.\tWe observe that he category 2, email-type 1 & campaign type-2 was high in number.\n",
        "\n",
        "2.\tFor modelling, it was observed that for imbalance handling Oversampling i.e. SMOTE worked better in balancing the data.\n",
        "\n",
        "3.\tEmail word counts is  somehow normally distributedwith mean of words around 700.\n",
        "\n",
        "4.\tTime_Email_Sent and Customer_Location were insignificant in determining the Email_status. The ratio of the Email_Status was the same irrespective of the demographic location or the time frame the emails were sent on.\n",
        "\n",
        "5.\tAs we had imbalanced data; the status with value 0 comprises 80% of data. So we used SMOTE method to deal with this imbalanced data.\n",
        "\n",
        "6.\tBased on the metrics, Random Forest worked the best, giving a train score of 97% and test score of 81% for F1 score.\n"
      ],
      "metadata": {
        "id": "_YEKX8yTth4b"
      }
    }
  ]
}